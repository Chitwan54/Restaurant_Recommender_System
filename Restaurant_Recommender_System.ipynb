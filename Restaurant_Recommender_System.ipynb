{
 "cells": [
  {
   "cell_type": "markdown",
   "id": "0023a4e0",
   "metadata": {
    "papermill": {
     "duration": 0.040512,
     "end_time": "2021-10-03T21:47:29.318290",
     "exception": false,
     "start_time": "2021-10-03T21:47:29.277778",
     "status": "completed"
    },
    "tags": []
   },
   "source": [
    "# Building A Popularity-Based and Collaborative-Filtering Restaurant Recommender System\n"
   ]
  },
  {
   "cell_type": "markdown",
   "id": "2af12287",
   "metadata": {
    "papermill": {
     "duration": 0.03898,
     "end_time": "2021-10-03T21:47:29.396474",
     "exception": false,
     "start_time": "2021-10-03T21:47:29.357494",
     "status": "completed"
    },
    "tags": []
   },
   "source": [
    "**The notebook contains the following:**\n",
    "1. Exploratory Data Analysis (EDA)\n",
    "2. Popularity Based Recommendation System\n",
    "3. Collaborativ-Filtering Recommendation System, using the Surprise Library.\n",
    "\n",
    "**Please do upvote, if you like the notebook :)**"
   ]
  },
  {
   "cell_type": "code",
   "execution_count": 1,
   "id": "c789616b",
   "metadata": {
    "_cell_guid": "b1076dfc-b9ad-4769-8c92-a6c4dae69d19",
    "_uuid": "8f2839f25d086af736a60e9eeb907d3b93b6e0e5",
    "execution": {
     "iopub.execute_input": "2021-10-03T21:47:29.484336Z",
     "iopub.status.busy": "2021-10-03T21:47:29.483483Z",
     "iopub.status.idle": "2021-10-03T21:47:29.496922Z",
     "shell.execute_reply": "2021-10-03T21:47:29.497492Z",
     "shell.execute_reply.started": "2021-10-03T21:11:16.314607Z"
    },
    "papermill": {
     "duration": 0.061537,
     "end_time": "2021-10-03T21:47:29.497769",
     "exception": false,
     "start_time": "2021-10-03T21:47:29.436232",
     "status": "completed"
    },
    "tags": []
   },
   "outputs": [
    {
     "name": "stdout",
     "output_type": "stream",
     "text": [
      "/kaggle/input/restaurant-data-with-consumer-ratings/chefmozcuisine.csv\n",
      "/kaggle/input/restaurant-data-with-consumer-ratings/chefmozhours4.csv\n",
      "/kaggle/input/restaurant-data-with-consumer-ratings/rating_final.csv\n",
      "/kaggle/input/restaurant-data-with-consumer-ratings/userprofile.csv\n",
      "/kaggle/input/restaurant-data-with-consumer-ratings/README\n",
      "/kaggle/input/restaurant-data-with-consumer-ratings/chefmozaccepts.csv\n",
      "/kaggle/input/restaurant-data-with-consumer-ratings/chefmozparking.csv\n",
      "/kaggle/input/restaurant-data-with-consumer-ratings/geoplaces2.csv\n",
      "/kaggle/input/restaurant-data-with-consumer-ratings/usercuisine.csv\n",
      "/kaggle/input/restaurant-data-with-consumer-ratings/userpayment.csv\n"
     ]
    }
   ],
   "source": [
    "# This Python 3 environment comes with many helpful analytics libraries installed\n",
    "# It is defined by the kaggle/python Docker image: https://github.com/kaggle/docker-python\n",
    "# For example, here's several helpful packages to load\n",
    "\n",
    "import numpy as np # linear algebra\n",
    "import pandas as pd # data processing, CSV file I/O (e.g. pd.read_csv)\n",
    "\n",
    "# Input data files are available in the read-only \"../input/\" directory\n",
    "# For example, running this (by clicking run or pressing Shift+Enter) will list all files under the input directory\n",
    "\n",
    "import os\n",
    "for dirname, _, filenames in os.walk('/kaggle/input'):\n",
    "    for filename in filenames:\n",
    "        print(os.path.join(dirname, filename))\n",
    "\n",
    "# You can write up to 20GB to the current directory (/kaggle/working/) that gets preserved as output when you create a version using \"Save & Run All\" \n",
    "# You can also write temporary files to /kaggle/temp/, but they won't be saved outside of the current session"
   ]
  },
  {
   "cell_type": "code",
   "execution_count": 2,
   "id": "e461a665",
   "metadata": {
    "execution": {
     "iopub.execute_input": "2021-10-03T21:47:29.584053Z",
     "iopub.status.busy": "2021-10-03T21:47:29.582110Z",
     "iopub.status.idle": "2021-10-03T21:47:30.350827Z",
     "shell.execute_reply": "2021-10-03T21:47:30.350278Z",
     "shell.execute_reply.started": "2021-10-03T21:11:16.506675Z"
    },
    "papermill": {
     "duration": 0.811188,
     "end_time": "2021-10-03T21:47:30.350951",
     "exception": false,
     "start_time": "2021-10-03T21:47:29.539763",
     "status": "completed"
    },
    "tags": []
   },
   "outputs": [],
   "source": [
    "# Import libraries\n",
    "import matplotlib.pyplot as plt\n",
    "import seaborn as sns\n",
    "from surprise import Dataset\n",
    "from surprise import Reader\n",
    "from surprise import SVD, SlopeOne, CoClustering, KNNBasic, KNNWithMeans, KNNWithZScore\n",
    "from surprise.model_selection import cross_validate\n",
    "import difflib\n",
    "import random"
   ]
  },
  {
   "cell_type": "code",
   "execution_count": 3,
   "id": "a0ff5b7e",
   "metadata": {
    "execution": {
     "iopub.execute_input": "2021-10-03T21:47:30.478479Z",
     "iopub.status.busy": "2021-10-03T21:47:30.477901Z",
     "iopub.status.idle": "2021-10-03T21:47:30.498131Z",
     "shell.execute_reply": "2021-10-03T21:47:30.497572Z",
     "shell.execute_reply.started": "2021-10-03T21:11:17.589612Z"
    },
    "papermill": {
     "duration": 0.085982,
     "end_time": "2021-10-03T21:47:30.498264",
     "exception": false,
     "start_time": "2021-10-03T21:47:30.412282",
     "status": "completed"
    },
    "tags": []
   },
   "outputs": [],
   "source": [
    "# We will be using the 'rating_final.csv' file to build the recommender system\n",
    "user_rating_file_path = \"../input/restaurant-data-with-consumer-ratings/rating_final.csv\"\n",
    "geolocation_file_path = '../input/restaurant-data-with-consumer-ratings/geoplaces2.csv'\n",
    "\n",
    "# Load the data\n",
    "data = pd.read_csv(user_rating_file_path)\n",
    "location_data = pd.read_csv(geolocation_file_path)"
   ]
  },
  {
   "cell_type": "code",
   "execution_count": 4,
   "id": "87c0f1d6",
   "metadata": {
    "execution": {
     "iopub.execute_input": "2021-10-03T21:47:30.625335Z",
     "iopub.status.busy": "2021-10-03T21:47:30.624592Z",
     "iopub.status.idle": "2021-10-03T21:47:30.637358Z",
     "shell.execute_reply": "2021-10-03T21:47:30.636981Z",
     "shell.execute_reply.started": "2021-10-03T21:11:17.622026Z"
    },
    "papermill": {
     "duration": 0.076848,
     "end_time": "2021-10-03T21:47:30.637464",
     "exception": false,
     "start_time": "2021-10-03T21:47:30.560616",
     "status": "completed"
    },
    "tags": []
   },
   "outputs": [
    {
     "data": {
      "text/plain": [
       "userID            0\n",
       "placeID           0\n",
       "rating            0\n",
       "food_rating       0\n",
       "service_rating    0\n",
       "dtype: int64"
      ]
     },
     "execution_count": 4,
     "metadata": {},
     "output_type": "execute_result"
    }
   ],
   "source": [
    "# Check for null values\n",
    "data.isnull().sum()"
   ]
  },
  {
   "cell_type": "code",
   "execution_count": 5,
   "id": "db99b2cf",
   "metadata": {
    "execution": {
     "iopub.execute_input": "2021-10-03T21:47:30.725215Z",
     "iopub.status.busy": "2021-10-03T21:47:30.724589Z",
     "iopub.status.idle": "2021-10-03T21:47:30.728219Z",
     "shell.execute_reply": "2021-10-03T21:47:30.728558Z",
     "shell.execute_reply.started": "2021-10-03T21:11:17.639194Z"
    },
    "papermill": {
     "duration": 0.050262,
     "end_time": "2021-10-03T21:47:30.728699",
     "exception": false,
     "start_time": "2021-10-03T21:47:30.678437",
     "status": "completed"
    },
    "tags": []
   },
   "outputs": [
    {
     "data": {
      "text/plain": [
       "placeID           0\n",
       "latitude          0\n",
       "longitude         0\n",
       "the_geom_meter    0\n",
       "name              0\n",
       "address           0\n",
       "city              0\n",
       "state             0\n",
       "country           0\n",
       "fax               0\n",
       "zip               0\n",
       "alcohol           0\n",
       "smoking_area      0\n",
       "dress_code        0\n",
       "accessibility     0\n",
       "price             0\n",
       "url               0\n",
       "Rambience         0\n",
       "franchise         0\n",
       "area              0\n",
       "other_services    0\n",
       "dtype: int64"
      ]
     },
     "execution_count": 5,
     "metadata": {},
     "output_type": "execute_result"
    }
   ],
   "source": [
    "location_data.isnull().sum()"
   ]
  },
  {
   "cell_type": "code",
   "execution_count": 6,
   "id": "1f3d3cb7",
   "metadata": {
    "execution": {
     "iopub.execute_input": "2021-10-03T21:47:30.824250Z",
     "iopub.status.busy": "2021-10-03T21:47:30.822342Z",
     "iopub.status.idle": "2021-10-03T21:47:30.833477Z",
     "shell.execute_reply": "2021-10-03T21:47:30.833975Z",
     "shell.execute_reply.started": "2021-10-03T21:11:17.649972Z"
    },
    "papermill": {
     "duration": 0.064433,
     "end_time": "2021-10-03T21:47:30.834128",
     "exception": false,
     "start_time": "2021-10-03T21:47:30.769695",
     "status": "completed"
    },
    "tags": []
   },
   "outputs": [],
   "source": [
    "data = pd.merge(data, location_data[['placeID', 'name']], on='placeID')\n",
    "data = data[['userID', 'placeID' ,'name', 'rating', 'food_rating', 'service_rating']]"
   ]
  },
  {
   "cell_type": "code",
   "execution_count": 7,
   "id": "76ea6cfa",
   "metadata": {
    "execution": {
     "iopub.execute_input": "2021-10-03T21:47:30.963141Z",
     "iopub.status.busy": "2021-10-03T21:47:30.962410Z",
     "iopub.status.idle": "2021-10-03T21:47:30.973026Z",
     "shell.execute_reply": "2021-10-03T21:47:30.972564Z",
     "shell.execute_reply.started": "2021-10-03T21:11:17.685298Z"
    },
    "papermill": {
     "duration": 0.07671,
     "end_time": "2021-10-03T21:47:30.973122",
     "exception": false,
     "start_time": "2021-10-03T21:47:30.896412",
     "status": "completed"
    },
    "tags": []
   },
   "outputs": [
    {
     "data": {
      "text/html": [
       "<div>\n",
       "<style scoped>\n",
       "    .dataframe tbody tr th:only-of-type {\n",
       "        vertical-align: middle;\n",
       "    }\n",
       "\n",
       "    .dataframe tbody tr th {\n",
       "        vertical-align: top;\n",
       "    }\n",
       "\n",
       "    .dataframe thead th {\n",
       "        text-align: right;\n",
       "    }\n",
       "</style>\n",
       "<table border=\"1\" class=\"dataframe\">\n",
       "  <thead>\n",
       "    <tr style=\"text-align: right;\">\n",
       "      <th></th>\n",
       "      <th>userID</th>\n",
       "      <th>placeID</th>\n",
       "      <th>name</th>\n",
       "      <th>rating</th>\n",
       "      <th>food_rating</th>\n",
       "      <th>service_rating</th>\n",
       "    </tr>\n",
       "  </thead>\n",
       "  <tbody>\n",
       "    <tr>\n",
       "      <th>0</th>\n",
       "      <td>U1077</td>\n",
       "      <td>135085</td>\n",
       "      <td>Tortas Locas Hipocampo</td>\n",
       "      <td>2</td>\n",
       "      <td>2</td>\n",
       "      <td>2</td>\n",
       "    </tr>\n",
       "    <tr>\n",
       "      <th>1</th>\n",
       "      <td>U1108</td>\n",
       "      <td>135085</td>\n",
       "      <td>Tortas Locas Hipocampo</td>\n",
       "      <td>1</td>\n",
       "      <td>2</td>\n",
       "      <td>1</td>\n",
       "    </tr>\n",
       "    <tr>\n",
       "      <th>2</th>\n",
       "      <td>U1081</td>\n",
       "      <td>135085</td>\n",
       "      <td>Tortas Locas Hipocampo</td>\n",
       "      <td>1</td>\n",
       "      <td>2</td>\n",
       "      <td>1</td>\n",
       "    </tr>\n",
       "    <tr>\n",
       "      <th>3</th>\n",
       "      <td>U1056</td>\n",
       "      <td>135085</td>\n",
       "      <td>Tortas Locas Hipocampo</td>\n",
       "      <td>2</td>\n",
       "      <td>2</td>\n",
       "      <td>2</td>\n",
       "    </tr>\n",
       "    <tr>\n",
       "      <th>4</th>\n",
       "      <td>U1134</td>\n",
       "      <td>135085</td>\n",
       "      <td>Tortas Locas Hipocampo</td>\n",
       "      <td>2</td>\n",
       "      <td>1</td>\n",
       "      <td>2</td>\n",
       "    </tr>\n",
       "  </tbody>\n",
       "</table>\n",
       "</div>"
      ],
      "text/plain": [
       "  userID  placeID                    name  rating  food_rating  service_rating\n",
       "0  U1077   135085  Tortas Locas Hipocampo       2            2               2\n",
       "1  U1108   135085  Tortas Locas Hipocampo       1            2               1\n",
       "2  U1081   135085  Tortas Locas Hipocampo       1            2               1\n",
       "3  U1056   135085  Tortas Locas Hipocampo       2            2               2\n",
       "4  U1134   135085  Tortas Locas Hipocampo       2            1               2"
      ]
     },
     "execution_count": 7,
     "metadata": {},
     "output_type": "execute_result"
    }
   ],
   "source": [
    "# load the first 5 rows\n",
    "data.head()"
   ]
  },
  {
   "cell_type": "markdown",
   "id": "e7ebd38d",
   "metadata": {
    "papermill": {
     "duration": 0.041202,
     "end_time": "2021-10-03T21:47:31.056290",
     "exception": false,
     "start_time": "2021-10-03T21:47:31.015088",
     "status": "completed"
    },
    "tags": []
   },
   "source": [
    "# Exploratory Data Analysis"
   ]
  },
  {
   "cell_type": "code",
   "execution_count": 8,
   "id": "6c15e190",
   "metadata": {
    "execution": {
     "iopub.execute_input": "2021-10-03T21:47:31.160443Z",
     "iopub.status.busy": "2021-10-03T21:47:31.159995Z",
     "iopub.status.idle": "2021-10-03T21:47:31.503248Z",
     "shell.execute_reply": "2021-10-03T21:47:31.502782Z",
     "shell.execute_reply.started": "2021-10-03T21:11:17.96222Z"
    },
    "papermill": {
     "duration": 0.405661,
     "end_time": "2021-10-03T21:47:31.503344",
     "exception": false,
     "start_time": "2021-10-03T21:47:31.097683",
     "status": "completed"
    },
    "tags": []
   },
   "outputs": [
    {
     "data": {
      "image/png": "[encoded data removed]",
      "text/plain": [
       "<Figure size 1080x720 with 3 Axes>"
      ]
     },
     "metadata": {
      "needs_background": "light"
     },
     "output_type": "display_data"
    }
   ],
   "source": [
    "# Visualise the distribution of rating, food_rating and service_rating features\n",
    "\n",
    "columns_to_plot = ['rating', 'food_rating', 'service_rating']\n",
    "\n",
    "# Create a figure and axis for subplots\n",
    "\n",
    "plt.figure(figsize=(15, 10))\n",
    "for i, col in enumerate(columns_to_plot):\n",
    "    plt.subplot(2, 2, i+1)\n",
    "    sns.countplot(data=data, x=col)\n",
    "    plt.xlabel(col)\n",
    "    plt.ylabel(\"Frequency\")\n",
    "    plt.title(\"Frequency Distribution of {}\".format(col))    \n",
    "plt.show()"
   ]
  },
  {
   "cell_type": "code",
   "execution_count": 9,
   "id": "b4762e44",
   "metadata": {
    "execution": {
     "iopub.execute_input": "2021-10-03T21:47:31.589508Z",
     "iopub.status.busy": "2021-10-03T21:47:31.589057Z",
     "iopub.status.idle": "2021-10-03T21:47:32.063996Z",
     "shell.execute_reply": "2021-10-03T21:47:32.064342Z",
     "shell.execute_reply.started": "2021-10-03T21:11:18.364155Z"
    },
    "papermill": {
     "duration": 0.518891,
     "end_time": "2021-10-03T21:47:32.064468",
     "exception": false,
     "start_time": "2021-10-03T21:47:31.545577",
     "status": "completed"
    },
    "tags": []
   },
   "outputs": [
    {
     "data": {
      "image/png": "[encoded data removed]",
      "text/plain": [
       "<Figure size 864x864 with 3 Axes>"
      ]
     },
     "metadata": {
      "needs_background": "light"
     },
     "output_type": "display_data"
    }
   ],
   "source": [
    "# plot the distribution of rating, food_rating, service_rating using boxplots\n",
    "plt.figure(figsize=(12, 12))\n",
    "for i, col in enumerate(columns_to_plot):\n",
    "    plt.subplot(2, 2, i+1)\n",
    "    sns.boxplot(data=data, x=col)\n",
    "    plt.xlabel(col)\n",
    "    plt.title(\"Box Plot of {}\".format(col))    \n",
    "plt.show()"
   ]
  },
  {
   "cell_type": "code",
   "execution_count": 10,
   "id": "c29094bd",
   "metadata": {
    "execution": {
     "iopub.execute_input": "2021-10-03T21:47:32.159150Z",
     "iopub.status.busy": "2021-10-03T21:47:32.154899Z",
     "iopub.status.idle": "2021-10-03T21:47:32.163601Z",
     "shell.execute_reply": "2021-10-03T21:47:32.163148Z",
     "shell.execute_reply.started": "2021-10-03T21:11:18.841603Z"
    },
    "papermill": {
     "duration": 0.054933,
     "end_time": "2021-10-03T21:47:32.163725",
     "exception": false,
     "start_time": "2021-10-03T21:47:32.108792",
     "status": "completed"
    },
    "tags": []
   },
   "outputs": [],
   "source": [
    "data.head()\n",
    "\n",
    "'''\n",
    "group the data by placeID and finding out the following:\n",
    "\n",
    "1. Top 10 most visited restaurants (occuring the most in the data).\n",
    "2. Top 10 least visited restaurants (occuring the least in the data).\n",
    "3. Top 10 most rated restaurants in terms of food and service.\n",
    "4. Top 10 restaurants having highest average ratings in terms of food and service.\n",
    "5. Top 10 restaurants having lowest average ratings in terms of food and service.\n",
    "'''\n",
    "\n",
    "# group the data by placeID\n",
    "placeID_group = data.groupby('placeID')\n",
    "placeID_grouped_data = placeID_group.count().sort_values(by='rating', ascending=False)"
   ]
  },
  {
   "cell_type": "code",
   "execution_count": 11,
   "id": "06407170",
   "metadata": {
    "execution": {
     "iopub.execute_input": "2021-10-03T21:47:32.270902Z",
     "iopub.status.busy": "2021-10-03T21:47:32.270380Z",
     "iopub.status.idle": "2021-10-03T21:47:32.273880Z",
     "shell.execute_reply": "2021-10-03T21:47:32.273402Z",
     "shell.execute_reply.started": "2021-10-03T21:11:18.854315Z"
    },
    "papermill": {
     "duration": 0.058088,
     "end_time": "2021-10-03T21:47:32.273984",
     "exception": false,
     "start_time": "2021-10-03T21:47:32.215896",
     "status": "completed"
    },
    "tags": []
   },
   "outputs": [
    {
     "data": {
      "text/html": [
       "<div>\n",
       "<style scoped>\n",
       "    .dataframe tbody tr th:only-of-type {\n",
       "        vertical-align: middle;\n",
       "    }\n",
       "\n",
       "    .dataframe tbody tr th {\n",
       "        vertical-align: top;\n",
       "    }\n",
       "\n",
       "    .dataframe thead th {\n",
       "        text-align: right;\n",
       "    }\n",
       "</style>\n",
       "<table border=\"1\" class=\"dataframe\">\n",
       "  <thead>\n",
       "    <tr style=\"text-align: right;\">\n",
       "      <th></th>\n",
       "      <th>userID</th>\n",
       "      <th>name</th>\n",
       "      <th>rating</th>\n",
       "      <th>food_rating</th>\n",
       "      <th>service_rating</th>\n",
       "    </tr>\n",
       "    <tr>\n",
       "      <th>placeID</th>\n",
       "      <th></th>\n",
       "      <th></th>\n",
       "      <th></th>\n",
       "      <th></th>\n",
       "      <th></th>\n",
       "    </tr>\n",
       "  </thead>\n",
       "  <tbody>\n",
       "    <tr>\n",
       "      <th>135085</th>\n",
       "      <td>36</td>\n",
       "      <td>36</td>\n",
       "      <td>36</td>\n",
       "      <td>36</td>\n",
       "      <td>36</td>\n",
       "    </tr>\n",
       "    <tr>\n",
       "      <th>132825</th>\n",
       "      <td>32</td>\n",
       "      <td>32</td>\n",
       "      <td>32</td>\n",
       "      <td>32</td>\n",
       "      <td>32</td>\n",
       "    </tr>\n",
       "    <tr>\n",
       "      <th>135032</th>\n",
       "      <td>28</td>\n",
       "      <td>28</td>\n",
       "      <td>28</td>\n",
       "      <td>28</td>\n",
       "      <td>28</td>\n",
       "    </tr>\n",
       "    <tr>\n",
       "      <th>135052</th>\n",
       "      <td>25</td>\n",
       "      <td>25</td>\n",
       "      <td>25</td>\n",
       "      <td>25</td>\n",
       "      <td>25</td>\n",
       "    </tr>\n",
       "    <tr>\n",
       "      <th>132834</th>\n",
       "      <td>25</td>\n",
       "      <td>25</td>\n",
       "      <td>25</td>\n",
       "      <td>25</td>\n",
       "      <td>25</td>\n",
       "    </tr>\n",
       "    <tr>\n",
       "      <th>135038</th>\n",
       "      <td>24</td>\n",
       "      <td>24</td>\n",
       "      <td>24</td>\n",
       "      <td>24</td>\n",
       "      <td>24</td>\n",
       "    </tr>\n",
       "    <tr>\n",
       "      <th>135060</th>\n",
       "      <td>22</td>\n",
       "      <td>22</td>\n",
       "      <td>22</td>\n",
       "      <td>22</td>\n",
       "      <td>22</td>\n",
       "    </tr>\n",
       "    <tr>\n",
       "      <th>135062</th>\n",
       "      <td>21</td>\n",
       "      <td>21</td>\n",
       "      <td>21</td>\n",
       "      <td>21</td>\n",
       "      <td>21</td>\n",
       "    </tr>\n",
       "    <tr>\n",
       "      <th>135042</th>\n",
       "      <td>20</td>\n",
       "      <td>20</td>\n",
       "      <td>20</td>\n",
       "      <td>20</td>\n",
       "      <td>20</td>\n",
       "    </tr>\n",
       "    <tr>\n",
       "      <th>132862</th>\n",
       "      <td>18</td>\n",
       "      <td>18</td>\n",
       "      <td>18</td>\n",
       "      <td>18</td>\n",
       "      <td>18</td>\n",
       "    </tr>\n",
       "  </tbody>\n",
       "</table>\n",
       "</div>"
      ],
      "text/plain": [
       "         userID  name  rating  food_rating  service_rating\n",
       "placeID                                                   \n",
       "135085       36    36      36           36              36\n",
       "132825       32    32      32           32              32\n",
       "135032       28    28      28           28              28\n",
       "135052       25    25      25           25              25\n",
       "132834       25    25      25           25              25\n",
       "135038       24    24      24           24              24\n",
       "135060       22    22      22           22              22\n",
       "135062       21    21      21           21              21\n",
       "135042       20    20      20           20              20\n",
       "132862       18    18      18           18              18"
      ]
     },
     "execution_count": 11,
     "metadata": {},
     "output_type": "execute_result"
    }
   ],
   "source": [
    "# 1. Top 10 most visited restaurants\n",
    "placeID_grouped_data.iloc[ : 10]"
   ]
  },
  {
   "cell_type": "code",
   "execution_count": 12,
   "id": "2e9f1ce8",
   "metadata": {
    "execution": {
     "iopub.execute_input": "2021-10-03T21:47:32.362272Z",
     "iopub.status.busy": "2021-10-03T21:47:32.361679Z",
     "iopub.status.idle": "2021-10-03T21:47:32.554193Z",
     "shell.execute_reply": "2021-10-03T21:47:32.554556Z",
     "shell.execute_reply.started": "2021-10-03T21:11:18.871317Z"
    },
    "papermill": {
     "duration": 0.237522,
     "end_time": "2021-10-03T21:47:32.554709",
     "exception": false,
     "start_time": "2021-10-03T21:47:32.317187",
     "status": "completed"
    },
    "tags": []
   },
   "outputs": [
    {
     "data": {
      "image/png": "[encoded data removed]",
      "text/plain": [
       "<Figure size 576x396 with 1 Axes>"
      ]
     },
     "metadata": {},
     "output_type": "display_data"
    }
   ],
   "source": [
    "# Plot the above data\n",
    "plt.style.use('seaborn')\n",
    "placeID_grouped_data.iloc[ : 10]['rating'].plot(kind='bar')\n",
    "plt.xlabel(\"Restaurant ID\")\n",
    "plt.ylabel(\"Frequency\")\n",
    "plt.xticks(rotation=-45)\n",
    "#plt.grid()\n",
    "plt.show()"
   ]
  },
  {
   "cell_type": "code",
   "execution_count": 13,
   "id": "168ef106",
   "metadata": {
    "execution": {
     "iopub.execute_input": "2021-10-03T21:47:32.655513Z",
     "iopub.status.busy": "2021-10-03T21:47:32.649572Z",
     "iopub.status.idle": "2021-10-03T21:47:32.658284Z",
     "shell.execute_reply": "2021-10-03T21:47:32.658726Z",
     "shell.execute_reply.started": "2021-10-03T21:11:19.1225Z"
    },
    "papermill": {
     "duration": 0.060326,
     "end_time": "2021-10-03T21:47:32.658834",
     "exception": false,
     "start_time": "2021-10-03T21:47:32.598508",
     "status": "completed"
    },
    "tags": []
   },
   "outputs": [
    {
     "data": {
      "text/html": [
       "<div>\n",
       "<style scoped>\n",
       "    .dataframe tbody tr th:only-of-type {\n",
       "        vertical-align: middle;\n",
       "    }\n",
       "\n",
       "    .dataframe tbody tr th {\n",
       "        vertical-align: top;\n",
       "    }\n",
       "\n",
       "    .dataframe thead th {\n",
       "        text-align: right;\n",
       "    }\n",
       "</style>\n",
       "<table border=\"1\" class=\"dataframe\">\n",
       "  <thead>\n",
       "    <tr style=\"text-align: right;\">\n",
       "      <th></th>\n",
       "      <th>rating</th>\n",
       "      <th>food_rating</th>\n",
       "      <th>service_rating</th>\n",
       "    </tr>\n",
       "    <tr>\n",
       "      <th>placeID</th>\n",
       "      <th></th>\n",
       "      <th></th>\n",
       "      <th></th>\n",
       "    </tr>\n",
       "  </thead>\n",
       "  <tbody>\n",
       "    <tr>\n",
       "      <th>132955</th>\n",
       "      <td>2.000000</td>\n",
       "      <td>1.800000</td>\n",
       "      <td>1.800000</td>\n",
       "    </tr>\n",
       "    <tr>\n",
       "      <th>135034</th>\n",
       "      <td>2.000000</td>\n",
       "      <td>2.000000</td>\n",
       "      <td>1.600000</td>\n",
       "    </tr>\n",
       "    <tr>\n",
       "      <th>134986</th>\n",
       "      <td>2.000000</td>\n",
       "      <td>2.000000</td>\n",
       "      <td>2.000000</td>\n",
       "    </tr>\n",
       "    <tr>\n",
       "      <th>132922</th>\n",
       "      <td>1.833333</td>\n",
       "      <td>1.500000</td>\n",
       "      <td>1.833333</td>\n",
       "    </tr>\n",
       "    <tr>\n",
       "      <th>132755</th>\n",
       "      <td>1.800000</td>\n",
       "      <td>2.000000</td>\n",
       "      <td>1.600000</td>\n",
       "    </tr>\n",
       "    <tr>\n",
       "      <th>135013</th>\n",
       "      <td>1.750000</td>\n",
       "      <td>2.000000</td>\n",
       "      <td>1.750000</td>\n",
       "    </tr>\n",
       "    <tr>\n",
       "      <th>134976</th>\n",
       "      <td>1.750000</td>\n",
       "      <td>1.750000</td>\n",
       "      <td>1.000000</td>\n",
       "    </tr>\n",
       "    <tr>\n",
       "      <th>135074</th>\n",
       "      <td>1.750000</td>\n",
       "      <td>1.750000</td>\n",
       "      <td>1.750000</td>\n",
       "    </tr>\n",
       "    <tr>\n",
       "      <th>135055</th>\n",
       "      <td>1.714286</td>\n",
       "      <td>1.714286</td>\n",
       "      <td>1.714286</td>\n",
       "    </tr>\n",
       "    <tr>\n",
       "      <th>135075</th>\n",
       "      <td>1.692308</td>\n",
       "      <td>1.692308</td>\n",
       "      <td>1.461538</td>\n",
       "    </tr>\n",
       "  </tbody>\n",
       "</table>\n",
       "</div>"
      ],
      "text/plain": [
       "           rating  food_rating  service_rating\n",
       "placeID                                       \n",
       "132955   2.000000     1.800000        1.800000\n",
       "135034   2.000000     2.000000        1.600000\n",
       "134986   2.000000     2.000000        2.000000\n",
       "132922   1.833333     1.500000        1.833333\n",
       "132755   1.800000     2.000000        1.600000\n",
       "135013   1.750000     2.000000        1.750000\n",
       "134976   1.750000     1.750000        1.000000\n",
       "135074   1.750000     1.750000        1.750000\n",
       "135055   1.714286     1.714286        1.714286\n",
       "135075   1.692308     1.692308        1.461538"
      ]
     },
     "execution_count": 13,
     "metadata": {},
     "output_type": "execute_result"
    }
   ],
   "source": [
    "# Top 10 restaurants having highest average overall ratings.\n",
    "placeID_ratings_data = data.groupby('placeID').mean().sort_values(by='rating', ascending=False)\n",
    "placeID_ratings_data.iloc[ : 10]"
   ]
  },
  {
   "cell_type": "code",
   "execution_count": 14,
   "id": "db05ac49",
   "metadata": {
    "execution": {
     "iopub.execute_input": "2021-10-03T21:47:32.783386Z",
     "iopub.status.busy": "2021-10-03T21:47:32.778584Z",
     "iopub.status.idle": "2021-10-03T21:47:33.001054Z",
     "shell.execute_reply": "2021-10-03T21:47:33.000497Z",
     "shell.execute_reply.started": "2021-10-03T21:11:19.183429Z"
    },
    "papermill": {
     "duration": 0.299635,
     "end_time": "2021-10-03T21:47:33.001187",
     "exception": false,
     "start_time": "2021-10-03T21:47:32.701552",
     "status": "completed"
    },
    "tags": []
   },
   "outputs": [
    {
     "data": {
      "image/png": "[encoded data removed]",
      "text/plain": [
       "<Figure size 864x576 with 1 Axes>"
      ]
     },
     "metadata": {},
     "output_type": "display_data"
    }
   ],
   "source": [
    "# Plot the above data\n",
    "plt.style.use('seaborn')\n",
    "placeID_ratings_data.iloc[ : 10].plot(kind='bar', figsize=(12,8))\n",
    "plt.xticks(rotation=-45)\n",
    "plt.grid()\n",
    "plt.show()"
   ]
  },
  {
   "cell_type": "code",
   "execution_count": 15,
   "id": "685ccdc1",
   "metadata": {
    "execution": {
     "iopub.execute_input": "2021-10-03T21:47:33.142805Z",
     "iopub.status.busy": "2021-10-03T21:47:33.142100Z",
     "iopub.status.idle": "2021-10-03T21:47:33.144944Z",
     "shell.execute_reply": "2021-10-03T21:47:33.145435Z",
     "shell.execute_reply.started": "2021-10-03T21:11:19.533793Z"
    },
    "papermill": {
     "duration": 0.076485,
     "end_time": "2021-10-03T21:47:33.145582",
     "exception": false,
     "start_time": "2021-10-03T21:47:33.069097",
     "status": "completed"
    },
    "tags": []
   },
   "outputs": [
    {
     "name": "stdout",
     "output_type": "stream",
     "text": [
      "Restaurant with highest average overall rating, food_rating and service_rating is Restaurant Las Mananitas\n"
     ]
    }
   ],
   "source": [
    "# Restaurant: 134986 has the highest average overall rating, food_rating and service_rating.\n",
    "rest_id = 134986\n",
    "print(\"Restaurant with highest average overall rating, food_rating and service_rating is {}\".format(data[data['placeID'] == rest_id]['name'].iloc[0]))"
   ]
  },
  {
   "cell_type": "markdown",
   "id": "c12b6cc8",
   "metadata": {
    "papermill": {
     "duration": 0.067482,
     "end_time": "2021-10-03T21:47:33.281956",
     "exception": false,
     "start_time": "2021-10-03T21:47:33.214474",
     "status": "completed"
    },
    "tags": []
   },
   "source": [
    "**Restaurant: 134986 i.e Restaurant Las Mananitas has the highest average overall rating, food_rating and service_rating.**"
   ]
  },
  {
   "cell_type": "code",
   "execution_count": 16,
   "id": "ab58d0e3",
   "metadata": {
    "execution": {
     "iopub.execute_input": "2021-10-03T21:47:33.422527Z",
     "iopub.status.busy": "2021-10-03T21:47:33.421700Z",
     "iopub.status.idle": "2021-10-03T21:47:33.431442Z",
     "shell.execute_reply": "2021-10-03T21:47:33.430955Z",
     "shell.execute_reply.started": "2021-10-03T21:11:19.819629Z"
    },
    "papermill": {
     "duration": 0.082204,
     "end_time": "2021-10-03T21:47:33.431563",
     "exception": false,
     "start_time": "2021-10-03T21:47:33.349359",
     "status": "completed"
    },
    "tags": []
   },
   "outputs": [
    {
     "data": {
      "text/html": [
       "<div>\n",
       "<style scoped>\n",
       "    .dataframe tbody tr th:only-of-type {\n",
       "        vertical-align: middle;\n",
       "    }\n",
       "\n",
       "    .dataframe tbody tr th {\n",
       "        vertical-align: top;\n",
       "    }\n",
       "\n",
       "    .dataframe thead th {\n",
       "        text-align: right;\n",
       "    }\n",
       "</style>\n",
       "<table border=\"1\" class=\"dataframe\">\n",
       "  <thead>\n",
       "    <tr style=\"text-align: right;\">\n",
       "      <th></th>\n",
       "      <th>rating</th>\n",
       "      <th>food_rating</th>\n",
       "      <th>service_rating</th>\n",
       "    </tr>\n",
       "    <tr>\n",
       "      <th>placeID</th>\n",
       "      <th></th>\n",
       "      <th></th>\n",
       "      <th></th>\n",
       "    </tr>\n",
       "  </thead>\n",
       "  <tbody>\n",
       "    <tr>\n",
       "      <th>132667</th>\n",
       "      <td>1.250000</td>\n",
       "      <td>2.000000</td>\n",
       "      <td>1.250000</td>\n",
       "    </tr>\n",
       "    <tr>\n",
       "      <th>134986</th>\n",
       "      <td>2.000000</td>\n",
       "      <td>2.000000</td>\n",
       "      <td>2.000000</td>\n",
       "    </tr>\n",
       "    <tr>\n",
       "      <th>135034</th>\n",
       "      <td>2.000000</td>\n",
       "      <td>2.000000</td>\n",
       "      <td>1.600000</td>\n",
       "    </tr>\n",
       "    <tr>\n",
       "      <th>132755</th>\n",
       "      <td>1.800000</td>\n",
       "      <td>2.000000</td>\n",
       "      <td>1.600000</td>\n",
       "    </tr>\n",
       "    <tr>\n",
       "      <th>135013</th>\n",
       "      <td>1.750000</td>\n",
       "      <td>2.000000</td>\n",
       "      <td>1.750000</td>\n",
       "    </tr>\n",
       "    <tr>\n",
       "      <th>132955</th>\n",
       "      <td>2.000000</td>\n",
       "      <td>1.800000</td>\n",
       "      <td>1.800000</td>\n",
       "    </tr>\n",
       "    <tr>\n",
       "      <th>134976</th>\n",
       "      <td>1.750000</td>\n",
       "      <td>1.750000</td>\n",
       "      <td>1.000000</td>\n",
       "    </tr>\n",
       "    <tr>\n",
       "      <th>135074</th>\n",
       "      <td>1.750000</td>\n",
       "      <td>1.750000</td>\n",
       "      <td>1.750000</td>\n",
       "    </tr>\n",
       "    <tr>\n",
       "      <th>135018</th>\n",
       "      <td>1.500000</td>\n",
       "      <td>1.750000</td>\n",
       "      <td>1.500000</td>\n",
       "    </tr>\n",
       "    <tr>\n",
       "      <th>135055</th>\n",
       "      <td>1.714286</td>\n",
       "      <td>1.714286</td>\n",
       "      <td>1.714286</td>\n",
       "    </tr>\n",
       "  </tbody>\n",
       "</table>\n",
       "</div>"
      ],
      "text/plain": [
       "           rating  food_rating  service_rating\n",
       "placeID                                       \n",
       "132667   1.250000     2.000000        1.250000\n",
       "134986   2.000000     2.000000        2.000000\n",
       "135034   2.000000     2.000000        1.600000\n",
       "132755   1.800000     2.000000        1.600000\n",
       "135013   1.750000     2.000000        1.750000\n",
       "132955   2.000000     1.800000        1.800000\n",
       "134976   1.750000     1.750000        1.000000\n",
       "135074   1.750000     1.750000        1.750000\n",
       "135018   1.500000     1.750000        1.500000\n",
       "135055   1.714286     1.714286        1.714286"
      ]
     },
     "execution_count": 16,
     "metadata": {},
     "output_type": "execute_result"
    }
   ],
   "source": [
    "# Top 10 restaurants having highest average food_rating ratings.\n",
    "placeID_food_rating_data = data.groupby('placeID').mean().sort_values(by='food_rating', ascending=False)\n",
    "placeID_food_rating_data.iloc[ : 10]"
   ]
  },
  {
   "cell_type": "code",
   "execution_count": 17,
   "id": "a8496e6c",
   "metadata": {
    "execution": {
     "iopub.execute_input": "2021-10-03T21:47:33.578428Z",
     "iopub.status.busy": "2021-10-03T21:47:33.573314Z",
     "iopub.status.idle": "2021-10-03T21:47:33.718509Z",
     "shell.execute_reply": "2021-10-03T21:47:33.719023Z",
     "shell.execute_reply.started": "2021-10-03T21:11:20.024103Z"
    },
    "papermill": {
     "duration": 0.219225,
     "end_time": "2021-10-03T21:47:33.719182",
     "exception": false,
     "start_time": "2021-10-03T21:47:33.499957",
     "status": "completed"
    },
    "tags": []
   },
   "outputs": [
    {
     "data": {
      "image/png": "[encoded data removed]",
      "text/plain": [
       "<Figure size 576x396 with 1 Axes>"
      ]
     },
     "metadata": {},
     "output_type": "display_data"
    }
   ],
   "source": [
    "# Plot the above data\n",
    "plt.style.use('seaborn')\n",
    "placeID_food_rating_data['food_rating'].iloc[ : 10].plot(kind='bar')\n",
    "plt.ylabel(\"Food Ratings\")\n",
    "plt.xticks(rotation=-45)\n",
    "plt.show()"
   ]
  },
  {
   "cell_type": "code",
   "execution_count": 18,
   "id": "d85fd348",
   "metadata": {
    "execution": {
     "iopub.execute_input": "2021-10-03T21:47:33.892541Z",
     "iopub.status.busy": "2021-10-03T21:47:33.890215Z",
     "iopub.status.idle": "2021-10-03T21:47:34.078309Z",
     "shell.execute_reply": "2021-10-03T21:47:34.078812Z",
     "shell.execute_reply.started": "2021-10-03T21:11:20.282546Z"
    },
    "papermill": {
     "duration": 0.290763,
     "end_time": "2021-10-03T21:47:34.078957",
     "exception": false,
     "start_time": "2021-10-03T21:47:33.788194",
     "status": "completed"
    },
    "tags": []
   },
   "outputs": [
    {
     "data": {
      "image/png": "[encoded data removed]",
      "text/plain": [
       "<Figure size 864x576 with 1 Axes>"
      ]
     },
     "metadata": {},
     "output_type": "display_data"
    }
   ],
   "source": [
    "placeID_food_rating_data.iloc[ : 10].plot(kind='bar', figsize=(12,8))\n",
    "plt.xticks(rotation=-45)\n",
    "plt.show()"
   ]
  },
  {
   "cell_type": "code",
   "execution_count": 19,
   "id": "556b6bd7",
   "metadata": {
    "execution": {
     "iopub.execute_input": "2021-10-03T21:47:34.232441Z",
     "iopub.status.busy": "2021-10-03T21:47:34.231600Z",
     "iopub.status.idle": "2021-10-03T21:47:34.235876Z",
     "shell.execute_reply": "2021-10-03T21:47:34.235233Z",
     "shell.execute_reply.started": "2021-10-03T21:11:20.623494Z"
    },
    "papermill": {
     "duration": 0.087119,
     "end_time": "2021-10-03T21:47:34.236025",
     "exception": false,
     "start_time": "2021-10-03T21:47:34.148906",
     "status": "completed"
    },
    "tags": []
   },
   "outputs": [
    {
     "name": "stdout",
     "output_type": "stream",
     "text": [
      "Restaurant little pizza Emilio Portes Gil has an average food_rating of 2 which is max but it has low overal ratings and service_ratings.\n"
     ]
    }
   ],
   "source": [
    "print(\"Restaurant {} has an average food_rating of 2 which is max but it has low overal ratings and service_ratings.\".format(data[data['placeID'] == 132667]['name'].iloc[0]))"
   ]
  },
  {
   "cell_type": "markdown",
   "id": "a19cba0a",
   "metadata": {
    "papermill": {
     "duration": 0.069721,
     "end_time": "2021-10-03T21:47:34.379052",
     "exception": false,
     "start_time": "2021-10-03T21:47:34.309331",
     "status": "completed"
    },
    "tags": []
   },
   "source": [
    "**Restaurant 132667 (little pizza Emilio Portes Gil) has an average food_rating of 2 which is max but it has low overal ratings and service_ratings.**"
   ]
  },
  {
   "cell_type": "code",
   "execution_count": 20,
   "id": "bc89b0df",
   "metadata": {
    "execution": {
     "iopub.execute_input": "2021-10-03T21:47:34.525086Z",
     "iopub.status.busy": "2021-10-03T21:47:34.524450Z",
     "iopub.status.idle": "2021-10-03T21:47:34.532865Z",
     "shell.execute_reply": "2021-10-03T21:47:34.533683Z",
     "shell.execute_reply.started": "2021-10-03T21:11:20.902973Z"
    },
    "papermill": {
     "duration": 0.083711,
     "end_time": "2021-10-03T21:47:34.533830",
     "exception": false,
     "start_time": "2021-10-03T21:47:34.450119",
     "status": "completed"
    },
    "tags": []
   },
   "outputs": [
    {
     "data": {
      "text/html": [
       "<div>\n",
       "<style scoped>\n",
       "    .dataframe tbody tr th:only-of-type {\n",
       "        vertical-align: middle;\n",
       "    }\n",
       "\n",
       "    .dataframe tbody tr th {\n",
       "        vertical-align: top;\n",
       "    }\n",
       "\n",
       "    .dataframe thead th {\n",
       "        text-align: right;\n",
       "    }\n",
       "</style>\n",
       "<table border=\"1\" class=\"dataframe\">\n",
       "  <thead>\n",
       "    <tr style=\"text-align: right;\">\n",
       "      <th></th>\n",
       "      <th>rating</th>\n",
       "      <th>food_rating</th>\n",
       "      <th>service_rating</th>\n",
       "    </tr>\n",
       "    <tr>\n",
       "      <th>placeID</th>\n",
       "      <th></th>\n",
       "      <th></th>\n",
       "      <th></th>\n",
       "    </tr>\n",
       "  </thead>\n",
       "  <tbody>\n",
       "    <tr>\n",
       "      <th>134986</th>\n",
       "      <td>2.000000</td>\n",
       "      <td>2.000000</td>\n",
       "      <td>2.000000</td>\n",
       "    </tr>\n",
       "    <tr>\n",
       "      <th>132922</th>\n",
       "      <td>1.833333</td>\n",
       "      <td>1.500000</td>\n",
       "      <td>1.833333</td>\n",
       "    </tr>\n",
       "    <tr>\n",
       "      <th>132955</th>\n",
       "      <td>2.000000</td>\n",
       "      <td>1.800000</td>\n",
       "      <td>1.800000</td>\n",
       "    </tr>\n",
       "    <tr>\n",
       "      <th>135013</th>\n",
       "      <td>1.750000</td>\n",
       "      <td>2.000000</td>\n",
       "      <td>1.750000</td>\n",
       "    </tr>\n",
       "    <tr>\n",
       "      <th>135074</th>\n",
       "      <td>1.750000</td>\n",
       "      <td>1.750000</td>\n",
       "      <td>1.750000</td>\n",
       "    </tr>\n",
       "    <tr>\n",
       "      <th>132773</th>\n",
       "      <td>1.500000</td>\n",
       "      <td>1.250000</td>\n",
       "      <td>1.750000</td>\n",
       "    </tr>\n",
       "    <tr>\n",
       "      <th>135055</th>\n",
       "      <td>1.714286</td>\n",
       "      <td>1.714286</td>\n",
       "      <td>1.714286</td>\n",
       "    </tr>\n",
       "    <tr>\n",
       "      <th>134999</th>\n",
       "      <td>1.600000</td>\n",
       "      <td>1.600000</td>\n",
       "      <td>1.600000</td>\n",
       "    </tr>\n",
       "    <tr>\n",
       "      <th>135034</th>\n",
       "      <td>2.000000</td>\n",
       "      <td>2.000000</td>\n",
       "      <td>1.600000</td>\n",
       "    </tr>\n",
       "    <tr>\n",
       "      <th>132755</th>\n",
       "      <td>1.800000</td>\n",
       "      <td>2.000000</td>\n",
       "      <td>1.600000</td>\n",
       "    </tr>\n",
       "  </tbody>\n",
       "</table>\n",
       "</div>"
      ],
      "text/plain": [
       "           rating  food_rating  service_rating\n",
       "placeID                                       \n",
       "134986   2.000000     2.000000        2.000000\n",
       "132922   1.833333     1.500000        1.833333\n",
       "132955   2.000000     1.800000        1.800000\n",
       "135013   1.750000     2.000000        1.750000\n",
       "135074   1.750000     1.750000        1.750000\n",
       "132773   1.500000     1.250000        1.750000\n",
       "135055   1.714286     1.714286        1.714286\n",
       "134999   1.600000     1.600000        1.600000\n",
       "135034   2.000000     2.000000        1.600000\n",
       "132755   1.800000     2.000000        1.600000"
      ]
     },
     "execution_count": 20,
     "metadata": {},
     "output_type": "execute_result"
    }
   ],
   "source": [
    "# Top 10 restaurants having highest average service_rating ratings.\n",
    "placeID_service_rating_data = data.groupby('placeID').mean().sort_values(by='service_rating', ascending=False)\n",
    "placeID_service_rating_data.iloc[ : 10]"
   ]
  },
  {
   "cell_type": "code",
   "execution_count": 21,
   "id": "b77fbb87",
   "metadata": {
    "execution": {
     "iopub.execute_input": "2021-10-03T21:47:34.686836Z",
     "iopub.status.busy": "2021-10-03T21:47:34.686352Z",
     "iopub.status.idle": "2021-10-03T21:47:34.870894Z",
     "shell.execute_reply": "2021-10-03T21:47:34.871329Z",
     "shell.execute_reply.started": "2021-10-03T21:11:21.103324Z"
    },
    "papermill": {
     "duration": 0.266432,
     "end_time": "2021-10-03T21:47:34.871450",
     "exception": false,
     "start_time": "2021-10-03T21:47:34.605018",
     "status": "completed"
    },
    "tags": []
   },
   "outputs": [
    {
     "data": {
      "image/png": "[encoded data removed]",
      "text/plain": [
       "<Figure size 576x396 with 1 Axes>"
      ]
     },
     "metadata": {},
     "output_type": "display_data"
    }
   ],
   "source": [
    "# Plot the above data\n",
    "plt.style.use('seaborn')\n",
    "placeID_service_rating_data['service_rating'].iloc[ : 10].plot(kind='bar')\n",
    "plt.ylabel(\"Service Ratings\")\n",
    "plt.xticks(rotation=-45)\n",
    "plt.show()"
   ]
  },
  {
   "cell_type": "code",
   "execution_count": 22,
   "id": "122e5a5c",
   "metadata": {
    "execution": {
     "iopub.execute_input": "2021-10-03T21:47:34.968552Z",
     "iopub.status.busy": "2021-10-03T21:47:34.967952Z",
     "iopub.status.idle": "2021-10-03T21:47:35.245075Z",
     "shell.execute_reply": "2021-10-03T21:47:35.245520Z",
     "shell.execute_reply.started": "2021-10-03T21:11:21.352923Z"
    },
    "papermill": {
     "duration": 0.326717,
     "end_time": "2021-10-03T21:47:35.245669",
     "exception": false,
     "start_time": "2021-10-03T21:47:34.918952",
     "status": "completed"
    },
    "tags": []
   },
   "outputs": [
    {
     "data": {
      "image/png": "[encoded data removed]",
      "text/plain": [
       "<Figure size 864x576 with 1 Axes>"
      ]
     },
     "metadata": {},
     "output_type": "display_data"
    }
   ],
   "source": [
    "placeID_service_rating_data.iloc[ : 10].plot(kind='bar', figsize=(12,8))\n",
    "plt.xticks(rotation=-45)\n",
    "plt.show()"
   ]
  },
  {
   "cell_type": "code",
   "execution_count": 23,
   "id": "559b1df9",
   "metadata": {
    "execution": {
     "iopub.execute_input": "2021-10-03T21:47:35.345167Z",
     "iopub.status.busy": "2021-10-03T21:47:35.344522Z",
     "iopub.status.idle": "2021-10-03T21:47:35.350286Z",
     "shell.execute_reply": "2021-10-03T21:47:35.350676Z",
     "shell.execute_reply.started": "2021-10-03T21:11:21.694466Z"
    },
    "papermill": {
     "duration": 0.056507,
     "end_time": "2021-10-03T21:47:35.350797",
     "exception": false,
     "start_time": "2021-10-03T21:47:35.294290",
     "status": "completed"
    },
    "tags": []
   },
   "outputs": [],
   "source": [
    "# Top 10 least visited restaurants (occuring the least in the data).\n",
    "placeID_rating_data = data.groupby('placeID').count().sort_values(by='rating')"
   ]
  },
  {
   "cell_type": "code",
   "execution_count": 24,
   "id": "854875ab",
   "metadata": {
    "execution": {
     "iopub.execute_input": "2021-10-03T21:47:35.457999Z",
     "iopub.status.busy": "2021-10-03T21:47:35.457364Z",
     "iopub.status.idle": "2021-10-03T21:47:35.460991Z",
     "shell.execute_reply": "2021-10-03T21:47:35.461473Z",
     "shell.execute_reply.started": "2021-10-03T21:11:21.753586Z"
    },
    "papermill": {
     "duration": 0.062098,
     "end_time": "2021-10-03T21:47:35.461652",
     "exception": false,
     "start_time": "2021-10-03T21:47:35.399554",
     "status": "completed"
    },
    "tags": []
   },
   "outputs": [
    {
     "data": {
      "text/html": [
       "<div>\n",
       "<style scoped>\n",
       "    .dataframe tbody tr th:only-of-type {\n",
       "        vertical-align: middle;\n",
       "    }\n",
       "\n",
       "    .dataframe tbody tr th {\n",
       "        vertical-align: top;\n",
       "    }\n",
       "\n",
       "    .dataframe thead th {\n",
       "        text-align: right;\n",
       "    }\n",
       "</style>\n",
       "<table border=\"1\" class=\"dataframe\">\n",
       "  <thead>\n",
       "    <tr style=\"text-align: right;\">\n",
       "      <th></th>\n",
       "      <th>userID</th>\n",
       "      <th>name</th>\n",
       "      <th>rating</th>\n",
       "      <th>food_rating</th>\n",
       "      <th>service_rating</th>\n",
       "    </tr>\n",
       "    <tr>\n",
       "      <th>placeID</th>\n",
       "      <th></th>\n",
       "      <th></th>\n",
       "      <th></th>\n",
       "      <th></th>\n",
       "      <th></th>\n",
       "    </tr>\n",
       "  </thead>\n",
       "  <tbody>\n",
       "    <tr>\n",
       "      <th>135011</th>\n",
       "      <td>3</td>\n",
       "      <td>3</td>\n",
       "      <td>3</td>\n",
       "      <td>3</td>\n",
       "      <td>3</td>\n",
       "    </tr>\n",
       "    <tr>\n",
       "      <th>132668</th>\n",
       "      <td>3</td>\n",
       "      <td>3</td>\n",
       "      <td>3</td>\n",
       "      <td>3</td>\n",
       "      <td>3</td>\n",
       "    </tr>\n",
       "    <tr>\n",
       "      <th>134975</th>\n",
       "      <td>3</td>\n",
       "      <td>3</td>\n",
       "      <td>3</td>\n",
       "      <td>3</td>\n",
       "      <td>3</td>\n",
       "    </tr>\n",
       "    <tr>\n",
       "      <th>132766</th>\n",
       "      <td>3</td>\n",
       "      <td>3</td>\n",
       "      <td>3</td>\n",
       "      <td>3</td>\n",
       "      <td>3</td>\n",
       "    </tr>\n",
       "    <tr>\n",
       "      <th>135016</th>\n",
       "      <td>3</td>\n",
       "      <td>3</td>\n",
       "      <td>3</td>\n",
       "      <td>3</td>\n",
       "      <td>3</td>\n",
       "    </tr>\n",
       "    <tr>\n",
       "      <th>132717</th>\n",
       "      <td>3</td>\n",
       "      <td>3</td>\n",
       "      <td>3</td>\n",
       "      <td>3</td>\n",
       "      <td>3</td>\n",
       "    </tr>\n",
       "    <tr>\n",
       "      <th>135033</th>\n",
       "      <td>4</td>\n",
       "      <td>4</td>\n",
       "      <td>4</td>\n",
       "      <td>4</td>\n",
       "      <td>4</td>\n",
       "    </tr>\n",
       "    <tr>\n",
       "      <th>135018</th>\n",
       "      <td>4</td>\n",
       "      <td>4</td>\n",
       "      <td>4</td>\n",
       "      <td>4</td>\n",
       "      <td>4</td>\n",
       "    </tr>\n",
       "    <tr>\n",
       "      <th>135040</th>\n",
       "      <td>4</td>\n",
       "      <td>4</td>\n",
       "      <td>4</td>\n",
       "      <td>4</td>\n",
       "      <td>4</td>\n",
       "    </tr>\n",
       "    <tr>\n",
       "      <th>135013</th>\n",
       "      <td>4</td>\n",
       "      <td>4</td>\n",
       "      <td>4</td>\n",
       "      <td>4</td>\n",
       "      <td>4</td>\n",
       "    </tr>\n",
       "  </tbody>\n",
       "</table>\n",
       "</div>"
      ],
      "text/plain": [
       "         userID  name  rating  food_rating  service_rating\n",
       "placeID                                                   \n",
       "135011        3     3       3            3               3\n",
       "132668        3     3       3            3               3\n",
       "134975        3     3       3            3               3\n",
       "132766        3     3       3            3               3\n",
       "135016        3     3       3            3               3\n",
       "132717        3     3       3            3               3\n",
       "135033        4     4       4            4               4\n",
       "135018        4     4       4            4               4\n",
       "135040        4     4       4            4               4\n",
       "135013        4     4       4            4               4"
      ]
     },
     "execution_count": 24,
     "metadata": {},
     "output_type": "execute_result"
    }
   ],
   "source": [
    "placeID_rating_data.iloc[ : 10]"
   ]
  },
  {
   "cell_type": "code",
   "execution_count": 25,
   "id": "0b497a4b",
   "metadata": {
    "execution": {
     "iopub.execute_input": "2021-10-03T21:47:35.649223Z",
     "iopub.status.busy": "2021-10-03T21:47:35.621661Z",
     "iopub.status.idle": "2021-10-03T21:47:35.794439Z",
     "shell.execute_reply": "2021-10-03T21:47:35.793940Z",
     "shell.execute_reply.started": "2021-10-03T21:11:21.951242Z"
    },
    "papermill": {
     "duration": 0.259426,
     "end_time": "2021-10-03T21:47:35.794565",
     "exception": false,
     "start_time": "2021-10-03T21:47:35.535139",
     "status": "completed"
    },
    "tags": []
   },
   "outputs": [
    {
     "data": {
      "image/png": "[encoded data removed]",
      "text/plain": [
       "<Figure size 576x396 with 1 Axes>"
      ]
     },
     "metadata": {},
     "output_type": "display_data"
    }
   ],
   "source": [
    "# Plot the above data\n",
    "placeID_rating_data['rating'].iloc[ : 10].plot(kind='bar')\n",
    "plt.xticks(rotation=-45)\n",
    "plt.show()"
   ]
  },
  {
   "cell_type": "markdown",
   "id": "f9beb8ba",
   "metadata": {
    "papermill": {
     "duration": 0.073244,
     "end_time": "2021-10-03T21:47:35.943886",
     "exception": false,
     "start_time": "2021-10-03T21:47:35.870642",
     "status": "completed"
    },
    "tags": []
   },
   "source": [
    "**Restaurant IDs 135011, 132668, 134975 have the lowest occurences in the data.**"
   ]
  },
  {
   "cell_type": "code",
   "execution_count": 26,
   "id": "b18d9005",
   "metadata": {
    "execution": {
     "iopub.execute_input": "2021-10-03T21:47:36.095283Z",
     "iopub.status.busy": "2021-10-03T21:47:36.094423Z",
     "iopub.status.idle": "2021-10-03T21:47:36.104848Z",
     "shell.execute_reply": "2021-10-03T21:47:36.105337Z",
     "shell.execute_reply.started": "2021-10-03T21:11:22.383608Z"
    },
    "papermill": {
     "duration": 0.087928,
     "end_time": "2021-10-03T21:47:36.105494",
     "exception": false,
     "start_time": "2021-10-03T21:47:36.017566",
     "status": "completed"
    },
    "tags": []
   },
   "outputs": [
    {
     "data": {
      "text/html": [
       "<div>\n",
       "<style scoped>\n",
       "    .dataframe tbody tr th:only-of-type {\n",
       "        vertical-align: middle;\n",
       "    }\n",
       "\n",
       "    .dataframe tbody tr th {\n",
       "        vertical-align: top;\n",
       "    }\n",
       "\n",
       "    .dataframe thead th {\n",
       "        text-align: right;\n",
       "    }\n",
       "</style>\n",
       "<table border=\"1\" class=\"dataframe\">\n",
       "  <thead>\n",
       "    <tr style=\"text-align: right;\">\n",
       "      <th></th>\n",
       "      <th>rating</th>\n",
       "      <th>food_rating</th>\n",
       "      <th>service_rating</th>\n",
       "    </tr>\n",
       "    <tr>\n",
       "      <th>placeID</th>\n",
       "      <th></th>\n",
       "      <th></th>\n",
       "      <th></th>\n",
       "    </tr>\n",
       "  </thead>\n",
       "  <tbody>\n",
       "    <tr>\n",
       "      <th>132654</th>\n",
       "      <td>0.250</td>\n",
       "      <td>0.250</td>\n",
       "      <td>0.250000</td>\n",
       "    </tr>\n",
       "    <tr>\n",
       "      <th>135040</th>\n",
       "      <td>0.250</td>\n",
       "      <td>0.250</td>\n",
       "      <td>0.250000</td>\n",
       "    </tr>\n",
       "    <tr>\n",
       "      <th>132560</th>\n",
       "      <td>0.500</td>\n",
       "      <td>1.000</td>\n",
       "      <td>0.250000</td>\n",
       "    </tr>\n",
       "    <tr>\n",
       "      <th>132663</th>\n",
       "      <td>0.500</td>\n",
       "      <td>0.500</td>\n",
       "      <td>0.666667</td>\n",
       "    </tr>\n",
       "    <tr>\n",
       "      <th>135069</th>\n",
       "      <td>0.500</td>\n",
       "      <td>0.500</td>\n",
       "      <td>0.750000</td>\n",
       "    </tr>\n",
       "    <tr>\n",
       "      <th>132594</th>\n",
       "      <td>0.600</td>\n",
       "      <td>1.200</td>\n",
       "      <td>0.600000</td>\n",
       "    </tr>\n",
       "    <tr>\n",
       "      <th>132609</th>\n",
       "      <td>0.600</td>\n",
       "      <td>0.600</td>\n",
       "      <td>0.600000</td>\n",
       "    </tr>\n",
       "    <tr>\n",
       "      <th>132885</th>\n",
       "      <td>0.600</td>\n",
       "      <td>0.600</td>\n",
       "      <td>0.400000</td>\n",
       "    </tr>\n",
       "    <tr>\n",
       "      <th>132870</th>\n",
       "      <td>0.600</td>\n",
       "      <td>1.000</td>\n",
       "      <td>0.400000</td>\n",
       "    </tr>\n",
       "    <tr>\n",
       "      <th>132732</th>\n",
       "      <td>0.625</td>\n",
       "      <td>0.875</td>\n",
       "      <td>1.000000</td>\n",
       "    </tr>\n",
       "  </tbody>\n",
       "</table>\n",
       "</div>"
      ],
      "text/plain": [
       "         rating  food_rating  service_rating\n",
       "placeID                                     \n",
       "132654    0.250        0.250        0.250000\n",
       "135040    0.250        0.250        0.250000\n",
       "132560    0.500        1.000        0.250000\n",
       "132663    0.500        0.500        0.666667\n",
       "135069    0.500        0.500        0.750000\n",
       "132594    0.600        1.200        0.600000\n",
       "132609    0.600        0.600        0.600000\n",
       "132885    0.600        0.600        0.400000\n",
       "132870    0.600        1.000        0.400000\n",
       "132732    0.625        0.875        1.000000"
      ]
     },
     "execution_count": 26,
     "metadata": {},
     "output_type": "execute_result"
    }
   ],
   "source": [
    "# Top 10 restaurants having lowest average overall ratings.\n",
    "placeID_ratings_data = data.groupby('placeID').mean().sort_values(by='rating', ascending=True)\n",
    "placeID_ratings_data.iloc[ : 10]"
   ]
  },
  {
   "cell_type": "code",
   "execution_count": 27,
   "id": "a8149bce",
   "metadata": {
    "execution": {
     "iopub.execute_input": "2021-10-03T21:47:36.289365Z",
     "iopub.status.busy": "2021-10-03T21:47:36.260039Z",
     "iopub.status.idle": "2021-10-03T21:47:36.439366Z",
     "shell.execute_reply": "2021-10-03T21:47:36.440211Z",
     "shell.execute_reply.started": "2021-10-03T21:11:22.591749Z"
    },
    "papermill": {
     "duration": 0.258888,
     "end_time": "2021-10-03T21:47:36.440413",
     "exception": false,
     "start_time": "2021-10-03T21:47:36.181525",
     "status": "completed"
    },
    "tags": []
   },
   "outputs": [
    {
     "data": {
      "image/png": "[encoded data removed]",
      "text/plain": [
       "<Figure size 576x396 with 1 Axes>"
      ]
     },
     "metadata": {},
     "output_type": "display_data"
    }
   ],
   "source": [
    "# Plot the above data\n",
    "placeID_ratings_data['rating'].iloc[ : 10].plot(kind='bar')\n",
    "plt.xticks(rotation=-45)\n",
    "plt.show()"
   ]
  },
  {
   "cell_type": "code",
   "execution_count": 28,
   "id": "4ad1f6c5",
   "metadata": {
    "execution": {
     "iopub.execute_input": "2021-10-03T21:47:36.545797Z",
     "iopub.status.busy": "2021-10-03T21:47:36.543372Z",
     "iopub.status.idle": "2021-10-03T21:47:36.810063Z",
     "shell.execute_reply": "2021-10-03T21:47:36.809543Z",
     "shell.execute_reply.started": "2021-10-03T21:11:22.806851Z"
    },
    "papermill": {
     "duration": 0.319242,
     "end_time": "2021-10-03T21:47:36.810189",
     "exception": false,
     "start_time": "2021-10-03T21:47:36.490947",
     "status": "completed"
    },
    "tags": []
   },
   "outputs": [
    {
     "data": {
      "image/png": "[encoded data removed]",
      "text/plain": [
       "<Figure size 864x576 with 1 Axes>"
      ]
     },
     "metadata": {},
     "output_type": "display_data"
    }
   ],
   "source": [
    "# Plot the above data\n",
    "placeID_ratings_data.iloc[ : 10].plot(kind='bar', figsize=(12,8))\n",
    "plt.xticks(rotation=-45)\n",
    "plt.show()"
   ]
  },
  {
   "cell_type": "code",
   "execution_count": 29,
   "id": "54b0f7fa",
   "metadata": {
    "execution": {
     "iopub.execute_input": "2021-10-03T21:47:36.978501Z",
     "iopub.status.busy": "2021-10-03T21:47:36.970140Z",
     "iopub.status.idle": "2021-10-03T21:47:36.982103Z",
     "shell.execute_reply": "2021-10-03T21:47:36.981638Z",
     "shell.execute_reply.started": "2021-10-03T21:11:23.097526Z"
    },
    "papermill": {
     "duration": 0.094923,
     "end_time": "2021-10-03T21:47:36.982206",
     "exception": false,
     "start_time": "2021-10-03T21:47:36.887283",
     "status": "completed"
    },
    "tags": []
   },
   "outputs": [
    {
     "data": {
      "text/html": [
       "<div>\n",
       "<style scoped>\n",
       "    .dataframe tbody tr th:only-of-type {\n",
       "        vertical-align: middle;\n",
       "    }\n",
       "\n",
       "    .dataframe tbody tr th {\n",
       "        vertical-align: top;\n",
       "    }\n",
       "\n",
       "    .dataframe thead th {\n",
       "        text-align: right;\n",
       "    }\n",
       "</style>\n",
       "<table border=\"1\" class=\"dataframe\">\n",
       "  <thead>\n",
       "    <tr style=\"text-align: right;\">\n",
       "      <th></th>\n",
       "      <th>rating</th>\n",
       "      <th>food_rating</th>\n",
       "      <th>service_rating</th>\n",
       "    </tr>\n",
       "    <tr>\n",
       "      <th>placeID</th>\n",
       "      <th></th>\n",
       "      <th></th>\n",
       "      <th></th>\n",
       "    </tr>\n",
       "  </thead>\n",
       "  <tbody>\n",
       "    <tr>\n",
       "      <th>135040</th>\n",
       "      <td>0.25</td>\n",
       "      <td>0.25</td>\n",
       "      <td>0.250000</td>\n",
       "    </tr>\n",
       "    <tr>\n",
       "      <th>132654</th>\n",
       "      <td>0.25</td>\n",
       "      <td>0.25</td>\n",
       "      <td>0.250000</td>\n",
       "    </tr>\n",
       "    <tr>\n",
       "      <th>134987</th>\n",
       "      <td>1.00</td>\n",
       "      <td>0.50</td>\n",
       "      <td>1.000000</td>\n",
       "    </tr>\n",
       "    <tr>\n",
       "      <th>132663</th>\n",
       "      <td>0.50</td>\n",
       "      <td>0.50</td>\n",
       "      <td>0.666667</td>\n",
       "    </tr>\n",
       "    <tr>\n",
       "      <th>135069</th>\n",
       "      <td>0.50</td>\n",
       "      <td>0.50</td>\n",
       "      <td>0.750000</td>\n",
       "    </tr>\n",
       "    <tr>\n",
       "      <th>135086</th>\n",
       "      <td>0.80</td>\n",
       "      <td>0.60</td>\n",
       "      <td>0.800000</td>\n",
       "    </tr>\n",
       "    <tr>\n",
       "      <th>132845</th>\n",
       "      <td>0.80</td>\n",
       "      <td>0.60</td>\n",
       "      <td>0.800000</td>\n",
       "    </tr>\n",
       "    <tr>\n",
       "      <th>132609</th>\n",
       "      <td>0.60</td>\n",
       "      <td>0.60</td>\n",
       "      <td>0.600000</td>\n",
       "    </tr>\n",
       "    <tr>\n",
       "      <th>135049</th>\n",
       "      <td>1.00</td>\n",
       "      <td>0.60</td>\n",
       "      <td>1.000000</td>\n",
       "    </tr>\n",
       "    <tr>\n",
       "      <th>132885</th>\n",
       "      <td>0.60</td>\n",
       "      <td>0.60</td>\n",
       "      <td>0.400000</td>\n",
       "    </tr>\n",
       "  </tbody>\n",
       "</table>\n",
       "</div>"
      ],
      "text/plain": [
       "         rating  food_rating  service_rating\n",
       "placeID                                     \n",
       "135040     0.25         0.25        0.250000\n",
       "132654     0.25         0.25        0.250000\n",
       "134987     1.00         0.50        1.000000\n",
       "132663     0.50         0.50        0.666667\n",
       "135069     0.50         0.50        0.750000\n",
       "135086     0.80         0.60        0.800000\n",
       "132845     0.80         0.60        0.800000\n",
       "132609     0.60         0.60        0.600000\n",
       "135049     1.00         0.60        1.000000\n",
       "132885     0.60         0.60        0.400000"
      ]
     },
     "execution_count": 29,
     "metadata": {},
     "output_type": "execute_result"
    }
   ],
   "source": [
    "# Top 10 restaurants having lowest average food_rating \n",
    "placeID_service_rating_data = data.groupby('placeID').mean().sort_values(by='food_rating', ascending=True)\n",
    "placeID_service_rating_data.iloc[ : 10]"
   ]
  },
  {
   "cell_type": "code",
   "execution_count": 30,
   "id": "00bf0287",
   "metadata": {
    "execution": {
     "iopub.execute_input": "2021-10-03T21:47:37.106024Z",
     "iopub.status.busy": "2021-10-03T21:47:37.103847Z",
     "iopub.status.idle": "2021-10-03T21:47:37.294402Z",
     "shell.execute_reply": "2021-10-03T21:47:37.293943Z",
     "shell.execute_reply.started": "2021-10-03T21:11:23.274723Z"
    },
    "papermill": {
     "duration": 0.260279,
     "end_time": "2021-10-03T21:47:37.294503",
     "exception": false,
     "start_time": "2021-10-03T21:47:37.034224",
     "status": "completed"
    },
    "tags": []
   },
   "outputs": [
    {
     "data": {
      "image/png": "[encoded data removed]",
      "text/plain": [
       "<Figure size 864x576 with 1 Axes>"
      ]
     },
     "metadata": {},
     "output_type": "display_data"
    }
   ],
   "source": [
    "placeID_service_rating_data.iloc[ : 10].plot(kind='bar', figsize=(12, 8))\n",
    "plt.xticks(rotation=-45)\n",
    "plt.show()"
   ]
  },
  {
   "cell_type": "code",
   "execution_count": 31,
   "id": "588c8ddc",
   "metadata": {
    "execution": {
     "iopub.execute_input": "2021-10-03T21:47:37.403554Z",
     "iopub.status.busy": "2021-10-03T21:47:37.403107Z",
     "iopub.status.idle": "2021-10-03T21:47:37.413261Z",
     "shell.execute_reply": "2021-10-03T21:47:37.412739Z",
     "shell.execute_reply.started": "2021-10-03T21:11:23.607498Z"
    },
    "papermill": {
     "duration": 0.067009,
     "end_time": "2021-10-03T21:47:37.413380",
     "exception": false,
     "start_time": "2021-10-03T21:47:37.346371",
     "status": "completed"
    },
    "tags": []
   },
   "outputs": [
    {
     "data": {
      "text/html": [
       "<div>\n",
       "<style scoped>\n",
       "    .dataframe tbody tr th:only-of-type {\n",
       "        vertical-align: middle;\n",
       "    }\n",
       "\n",
       "    .dataframe tbody tr th {\n",
       "        vertical-align: top;\n",
       "    }\n",
       "\n",
       "    .dataframe thead th {\n",
       "        text-align: right;\n",
       "    }\n",
       "</style>\n",
       "<table border=\"1\" class=\"dataframe\">\n",
       "  <thead>\n",
       "    <tr style=\"text-align: right;\">\n",
       "      <th></th>\n",
       "      <th>rating</th>\n",
       "      <th>food_rating</th>\n",
       "      <th>service_rating</th>\n",
       "    </tr>\n",
       "    <tr>\n",
       "      <th>placeID</th>\n",
       "      <th></th>\n",
       "      <th></th>\n",
       "      <th></th>\n",
       "    </tr>\n",
       "  </thead>\n",
       "  <tbody>\n",
       "    <tr>\n",
       "      <th>132560</th>\n",
       "      <td>0.50</td>\n",
       "      <td>1.00</td>\n",
       "      <td>0.250</td>\n",
       "    </tr>\n",
       "    <tr>\n",
       "      <th>132654</th>\n",
       "      <td>0.25</td>\n",
       "      <td>0.25</td>\n",
       "      <td>0.250</td>\n",
       "    </tr>\n",
       "    <tr>\n",
       "      <th>135040</th>\n",
       "      <td>0.25</td>\n",
       "      <td>0.25</td>\n",
       "      <td>0.250</td>\n",
       "    </tr>\n",
       "    <tr>\n",
       "      <th>132870</th>\n",
       "      <td>0.60</td>\n",
       "      <td>1.00</td>\n",
       "      <td>0.400</td>\n",
       "    </tr>\n",
       "    <tr>\n",
       "      <th>132885</th>\n",
       "      <td>0.60</td>\n",
       "      <td>0.60</td>\n",
       "      <td>0.400</td>\n",
       "    </tr>\n",
       "    <tr>\n",
       "      <th>132715</th>\n",
       "      <td>1.00</td>\n",
       "      <td>1.00</td>\n",
       "      <td>0.500</td>\n",
       "    </tr>\n",
       "    <tr>\n",
       "      <th>132594</th>\n",
       "      <td>0.60</td>\n",
       "      <td>1.20</td>\n",
       "      <td>0.600</td>\n",
       "    </tr>\n",
       "    <tr>\n",
       "      <th>132609</th>\n",
       "      <td>0.60</td>\n",
       "      <td>0.60</td>\n",
       "      <td>0.600</td>\n",
       "    </tr>\n",
       "    <tr>\n",
       "      <th>132858</th>\n",
       "      <td>0.80</td>\n",
       "      <td>1.40</td>\n",
       "      <td>0.600</td>\n",
       "    </tr>\n",
       "    <tr>\n",
       "      <th>132740</th>\n",
       "      <td>0.75</td>\n",
       "      <td>1.25</td>\n",
       "      <td>0.625</td>\n",
       "    </tr>\n",
       "  </tbody>\n",
       "</table>\n",
       "</div>"
      ],
      "text/plain": [
       "         rating  food_rating  service_rating\n",
       "placeID                                     \n",
       "132560     0.50         1.00           0.250\n",
       "132654     0.25         0.25           0.250\n",
       "135040     0.25         0.25           0.250\n",
       "132870     0.60         1.00           0.400\n",
       "132885     0.60         0.60           0.400\n",
       "132715     1.00         1.00           0.500\n",
       "132594     0.60         1.20           0.600\n",
       "132609     0.60         0.60           0.600\n",
       "132858     0.80         1.40           0.600\n",
       "132740     0.75         1.25           0.625"
      ]
     },
     "execution_count": 31,
     "metadata": {},
     "output_type": "execute_result"
    }
   ],
   "source": [
    "# Top 10 restaurants having lowest average service_rating ratings.\n",
    "placeID_service_rating_data = data.groupby('placeID').mean().sort_values(by='service_rating', ascending=True)\n",
    "placeID_service_rating_data.iloc[ : 10]"
   ]
  },
  {
   "cell_type": "code",
   "execution_count": 32,
   "id": "aad12b8f",
   "metadata": {
    "execution": {
     "iopub.execute_input": "2021-10-03T21:47:37.598875Z",
     "iopub.status.busy": "2021-10-03T21:47:37.597662Z",
     "iopub.status.idle": "2021-10-03T21:47:37.790898Z",
     "shell.execute_reply": "2021-10-03T21:47:37.789929Z",
     "shell.execute_reply.started": "2021-10-03T21:11:23.699457Z"
    },
    "papermill": {
     "duration": 0.297061,
     "end_time": "2021-10-03T21:47:37.791012",
     "exception": false,
     "start_time": "2021-10-03T21:47:37.493951",
     "status": "completed"
    },
    "tags": []
   },
   "outputs": [
    {
     "data": {
      "image/png": "[encoded data removed]",
      "text/plain": [
       "<Figure size 864x576 with 1 Axes>"
      ]
     },
     "metadata": {},
     "output_type": "display_data"
    }
   ],
   "source": [
    "# Top 10 restaurants having lowest average service_rating ratings along with food_rating, service_rating\n",
    "placeID_service_rating_data.iloc[ : 10].plot(kind='bar', figsize=(12, 8))\n",
    "plt.xticks(rotation=-45)\n",
    "plt.show()"
   ]
  },
  {
   "cell_type": "markdown",
   "id": "1923a1cb",
   "metadata": {
    "papermill": {
     "duration": 0.052407,
     "end_time": "2021-10-03T21:47:37.896405",
     "exception": false,
     "start_time": "2021-10-03T21:47:37.843998",
     "status": "completed"
    },
    "tags": []
   },
   "source": [
    "**Next plot top 10 userIDs i.e users which occur the most**"
   ]
  },
  {
   "cell_type": "code",
   "execution_count": 33,
   "id": "e707b05a",
   "metadata": {
    "execution": {
     "iopub.execute_input": "2021-10-03T21:47:38.011224Z",
     "iopub.status.busy": "2021-10-03T21:47:38.010772Z",
     "iopub.status.idle": "2021-10-03T21:47:38.229840Z",
     "shell.execute_reply": "2021-10-03T21:47:38.229299Z",
     "shell.execute_reply.started": "2021-10-03T21:11:24.116094Z"
    },
    "papermill": {
     "duration": 0.280183,
     "end_time": "2021-10-03T21:47:38.229959",
     "exception": false,
     "start_time": "2021-10-03T21:47:37.949776",
     "status": "completed"
    },
    "tags": []
   },
   "outputs": [
    {
     "data": {
      "image/png": "[encoded data removed]",
      "text/plain": [
       "<Figure size 720x432 with 1 Axes>"
      ]
     },
     "metadata": {},
     "output_type": "display_data"
    }
   ],
   "source": [
    "data.groupby('userID').count().sort_values(by='rating', ascending=False).iloc[ : 10]['rating'].plot(kind='bar', figsize=(10,6))\n",
    "plt.xlabel(\"User ID\")\n",
    "plt.ylabel(\"Frequency of Ratings\")\n",
    "plt.xticks(rotation=-45)\n",
    "plt.yticks(np.arange(0,19,1))\n",
    "plt.show()"
   ]
  },
  {
   "cell_type": "markdown",
   "id": "e776fcf3",
   "metadata": {
    "papermill": {
     "duration": 0.080044,
     "end_time": "2021-10-03T21:47:38.390235",
     "exception": false,
     "start_time": "2021-10-03T21:47:38.310191",
     "status": "completed"
    },
    "tags": []
   },
   "source": [
    "**User U1106 and U1061 occur the most of the times in the dataset i.e 18 times.**"
   ]
  },
  {
   "cell_type": "code",
   "execution_count": 34,
   "id": "ec7a7ff7",
   "metadata": {
    "execution": {
     "iopub.execute_input": "2021-10-03T21:47:38.559452Z",
     "iopub.status.busy": "2021-10-03T21:47:38.558827Z",
     "iopub.status.idle": "2021-10-03T21:47:38.575339Z",
     "shell.execute_reply": "2021-10-03T21:47:38.575814Z",
     "shell.execute_reply.started": "2021-10-03T21:11:24.538897Z"
    },
    "papermill": {
     "duration": 0.105559,
     "end_time": "2021-10-03T21:47:38.575994",
     "exception": false,
     "start_time": "2021-10-03T21:47:38.470435",
     "status": "completed"
    },
    "tags": []
   },
   "outputs": [
    {
     "data": {
      "text/html": [
       "<div>\n",
       "<style scoped>\n",
       "    .dataframe tbody tr th:only-of-type {\n",
       "        vertical-align: middle;\n",
       "    }\n",
       "\n",
       "    .dataframe tbody tr th {\n",
       "        vertical-align: top;\n",
       "    }\n",
       "\n",
       "    .dataframe thead th {\n",
       "        text-align: right;\n",
       "    }\n",
       "</style>\n",
       "<table border=\"1\" class=\"dataframe\">\n",
       "  <thead>\n",
       "    <tr style=\"text-align: right;\">\n",
       "      <th></th>\n",
       "      <th>rating</th>\n",
       "      <th>food_rating</th>\n",
       "      <th>service_rating</th>\n",
       "    </tr>\n",
       "  </thead>\n",
       "  <tbody>\n",
       "    <tr>\n",
       "      <th>count</th>\n",
       "      <td>1161.000000</td>\n",
       "      <td>1161.000000</td>\n",
       "      <td>1161.000000</td>\n",
       "    </tr>\n",
       "    <tr>\n",
       "      <th>mean</th>\n",
       "      <td>1.199828</td>\n",
       "      <td>1.215332</td>\n",
       "      <td>1.090439</td>\n",
       "    </tr>\n",
       "    <tr>\n",
       "      <th>std</th>\n",
       "      <td>0.773282</td>\n",
       "      <td>0.792294</td>\n",
       "      <td>0.790844</td>\n",
       "    </tr>\n",
       "    <tr>\n",
       "      <th>min</th>\n",
       "      <td>0.000000</td>\n",
       "      <td>0.000000</td>\n",
       "      <td>0.000000</td>\n",
       "    </tr>\n",
       "    <tr>\n",
       "      <th>25%</th>\n",
       "      <td>1.000000</td>\n",
       "      <td>1.000000</td>\n",
       "      <td>0.000000</td>\n",
       "    </tr>\n",
       "    <tr>\n",
       "      <th>50%</th>\n",
       "      <td>1.000000</td>\n",
       "      <td>1.000000</td>\n",
       "      <td>1.000000</td>\n",
       "    </tr>\n",
       "    <tr>\n",
       "      <th>75%</th>\n",
       "      <td>2.000000</td>\n",
       "      <td>2.000000</td>\n",
       "      <td>2.000000</td>\n",
       "    </tr>\n",
       "    <tr>\n",
       "      <th>max</th>\n",
       "      <td>2.000000</td>\n",
       "      <td>2.000000</td>\n",
       "      <td>2.000000</td>\n",
       "    </tr>\n",
       "  </tbody>\n",
       "</table>\n",
       "</div>"
      ],
      "text/plain": [
       "            rating  food_rating  service_rating\n",
       "count  1161.000000  1161.000000     1161.000000\n",
       "mean      1.199828     1.215332        1.090439\n",
       "std       0.773282     0.792294        0.790844\n",
       "min       0.000000     0.000000        0.000000\n",
       "25%       1.000000     1.000000        0.000000\n",
       "50%       1.000000     1.000000        1.000000\n",
       "75%       2.000000     2.000000        2.000000\n",
       "max       2.000000     2.000000        2.000000"
      ]
     },
     "execution_count": 34,
     "metadata": {},
     "output_type": "execute_result"
    }
   ],
   "source": [
    "data[['rating', 'food_rating', 'service_rating']].describe()"
   ]
  },
  {
   "cell_type": "markdown",
   "id": "ac20635f",
   "metadata": {
    "papermill": {
     "duration": 0.080019,
     "end_time": "2021-10-03T21:47:38.738558",
     "exception": false,
     "start_time": "2021-10-03T21:47:38.658539",
     "status": "completed"
    },
    "tags": []
   },
   "source": [
    "# Recommender Sytem"
   ]
  },
  {
   "cell_type": "markdown",
   "id": "03a98628",
   "metadata": {
    "papermill": {
     "duration": 0.079786,
     "end_time": "2021-10-03T21:47:38.900255",
     "exception": false,
     "start_time": "2021-10-03T21:47:38.820469",
     "status": "completed"
    },
    "tags": []
   },
   "source": [
    "**1. Popularity Based Recommender System:**\n",
    "\n",
    "It is a very fundamental type of recommender system which gives recommendations based on the popularity of the product. For example, the most popular product will be recommended first."
   ]
  },
  {
   "cell_type": "code",
   "execution_count": 35,
   "id": "21c97364",
   "metadata": {
    "execution": {
     "iopub.execute_input": "2021-10-03T21:47:39.068202Z",
     "iopub.status.busy": "2021-10-03T21:47:39.067309Z",
     "iopub.status.idle": "2021-10-03T21:47:39.071689Z",
     "shell.execute_reply": "2021-10-03T21:47:39.072153Z",
     "shell.execute_reply.started": "2021-10-03T21:11:25.120822Z"
    },
    "papermill": {
     "duration": 0.091956,
     "end_time": "2021-10-03T21:47:39.072322",
     "exception": false,
     "start_time": "2021-10-03T21:47:38.980366",
     "status": "completed"
    },
    "tags": []
   },
   "outputs": [],
   "source": [
    "# Provide a score to each restaurant based on the count of their occurrence, i.e the place that occurs the most is more popular hence, scored high.\n",
    "placeID_count = data.groupby('placeID').count()['userID'].to_dict()\n",
    "data['placeScore'] = data['placeID'].map(placeID_count)"
   ]
  },
  {
   "cell_type": "code",
   "execution_count": 36,
   "id": "c425d592",
   "metadata": {
    "execution": {
     "iopub.execute_input": "2021-10-03T21:47:39.246600Z",
     "iopub.status.busy": "2021-10-03T21:47:39.245441Z",
     "iopub.status.idle": "2021-10-03T21:47:39.253663Z",
     "shell.execute_reply": "2021-10-03T21:47:39.252784Z",
     "shell.execute_reply.started": "2021-10-03T21:11:25.353249Z"
    },
    "papermill": {
     "duration": 0.09749,
     "end_time": "2021-10-03T21:47:39.253758",
     "exception": false,
     "start_time": "2021-10-03T21:47:39.156268",
     "status": "completed"
    },
    "tags": []
   },
   "outputs": [],
   "source": [
    "# generate top 10 recommendations\n",
    "top_10_recommendations = pd.DataFrame(data['placeID'].value_counts()).reset_index().rename(columns = {'index' : 'placeID', 'placeID' : 'placeScore'}).iloc[ : 10]\n",
    "top_10_recommendations = pd.merge(data[['placeID','name']], top_10_recommendations, on='placeID', how='right').drop_duplicates()"
   ]
  },
  {
   "cell_type": "code",
   "execution_count": 37,
   "id": "7fb6564f",
   "metadata": {
    "execution": {
     "iopub.execute_input": "2021-10-03T21:47:39.374133Z",
     "iopub.status.busy": "2021-10-03T21:47:39.373489Z",
     "iopub.status.idle": "2021-10-03T21:47:39.376691Z",
     "shell.execute_reply": "2021-10-03T21:47:39.377025Z",
     "shell.execute_reply.started": "2021-10-03T21:11:25.584571Z"
    },
    "papermill": {
     "duration": 0.067891,
     "end_time": "2021-10-03T21:47:39.377153",
     "exception": false,
     "start_time": "2021-10-03T21:47:39.309262",
     "status": "completed"
    },
    "tags": []
   },
   "outputs": [
    {
     "data": {
      "text/html": [
       "<div>\n",
       "<style scoped>\n",
       "    .dataframe tbody tr th:only-of-type {\n",
       "        vertical-align: middle;\n",
       "    }\n",
       "\n",
       "    .dataframe tbody tr th {\n",
       "        vertical-align: top;\n",
       "    }\n",
       "\n",
       "    .dataframe thead th {\n",
       "        text-align: right;\n",
       "    }\n",
       "</style>\n",
       "<table border=\"1\" class=\"dataframe\">\n",
       "  <thead>\n",
       "    <tr style=\"text-align: right;\">\n",
       "      <th></th>\n",
       "      <th>placeID</th>\n",
       "      <th>name</th>\n",
       "      <th>placeScore</th>\n",
       "    </tr>\n",
       "  </thead>\n",
       "  <tbody>\n",
       "    <tr>\n",
       "      <th>0</th>\n",
       "      <td>135085</td>\n",
       "      <td>Tortas Locas Hipocampo</td>\n",
       "      <td>36</td>\n",
       "    </tr>\n",
       "    <tr>\n",
       "      <th>36</th>\n",
       "      <td>132825</td>\n",
       "      <td>puesto de tacos</td>\n",
       "      <td>32</td>\n",
       "    </tr>\n",
       "    <tr>\n",
       "      <th>68</th>\n",
       "      <td>135032</td>\n",
       "      <td>Cafeteria y Restaurant El Pacifico</td>\n",
       "      <td>28</td>\n",
       "    </tr>\n",
       "    <tr>\n",
       "      <th>96</th>\n",
       "      <td>135052</td>\n",
       "      <td>La Cantina Restaurante</td>\n",
       "      <td>25</td>\n",
       "    </tr>\n",
       "    <tr>\n",
       "      <th>121</th>\n",
       "      <td>132834</td>\n",
       "      <td>Gorditas Doa Gloria</td>\n",
       "      <td>25</td>\n",
       "    </tr>\n",
       "    <tr>\n",
       "      <th>146</th>\n",
       "      <td>135038</td>\n",
       "      <td>Restaurant la Chalita</td>\n",
       "      <td>24</td>\n",
       "    </tr>\n",
       "    <tr>\n",
       "      <th>170</th>\n",
       "      <td>135060</td>\n",
       "      <td>Restaurante Marisco Sam</td>\n",
       "      <td>22</td>\n",
       "    </tr>\n",
       "    <tr>\n",
       "      <th>192</th>\n",
       "      <td>135062</td>\n",
       "      <td>Restaurante El Cielo Potosino</td>\n",
       "      <td>21</td>\n",
       "    </tr>\n",
       "    <tr>\n",
       "      <th>213</th>\n",
       "      <td>135042</td>\n",
       "      <td>Restaurant Oriental Express</td>\n",
       "      <td>20</td>\n",
       "    </tr>\n",
       "    <tr>\n",
       "      <th>233</th>\n",
       "      <td>135058</td>\n",
       "      <td>Restaurante Tiberius</td>\n",
       "      <td>18</td>\n",
       "    </tr>\n",
       "  </tbody>\n",
       "</table>\n",
       "</div>"
      ],
      "text/plain": [
       "     placeID                                name  placeScore\n",
       "0     135085              Tortas Locas Hipocampo          36\n",
       "36    132825                     puesto de tacos          32\n",
       "68    135032  Cafeteria y Restaurant El Pacifico          28\n",
       "96    135052              La Cantina Restaurante          25\n",
       "121   132834                 Gorditas Doa Gloria          25\n",
       "146   135038               Restaurant la Chalita          24\n",
       "170   135060             Restaurante Marisco Sam          22\n",
       "192   135062       Restaurante El Cielo Potosino          21\n",
       "213   135042         Restaurant Oriental Express          20\n",
       "233   135058                Restaurante Tiberius          18"
      ]
     },
     "execution_count": 37,
     "metadata": {},
     "output_type": "execute_result"
    }
   ],
   "source": [
    "# Top 10 Recommendations\n",
    "top_10_recommendations"
   ]
  },
  {
   "cell_type": "markdown",
   "id": "655dfaf8",
   "metadata": {
    "papermill": {
     "duration": 0.082621,
     "end_time": "2021-10-03T21:47:39.515222",
     "exception": false,
     "start_time": "2021-10-03T21:47:39.432601",
     "status": "completed"
    },
    "tags": []
   },
   "source": [
    "**2. Collaborative-Filtering:**\n",
    "\n",
    "\n",
    "In general, collaborative filtering is a process of filtering information using techniques that involve multiple agents, viewpoint, data_sources etc. Specific to recommender systems, collaborative filtering is a technique to generate predictions about the interests/preferences of a user for a product based on the interests/preferences of other similar users.\n",
    "\n",
    "The underlying assumption behind this concept is that if a person A has similar opinion as of a person B for a product, then it is very likely that A's opinion will be similar to that of B for some other product rather than that of a randomly chosen person."
   ]
  },
  {
   "cell_type": "code",
   "execution_count": 38,
   "id": "c6094606",
   "metadata": {
    "execution": {
     "iopub.execute_input": "2021-10-03T21:47:39.682722Z",
     "iopub.status.busy": "2021-10-03T21:47:39.682240Z",
     "iopub.status.idle": "2021-10-03T21:47:39.684991Z",
     "shell.execute_reply": "2021-10-03T21:47:39.684593Z",
     "shell.execute_reply.started": "2021-10-03T21:11:26.007591Z"
    },
    "papermill": {
     "duration": 0.088312,
     "end_time": "2021-10-03T21:47:39.685090",
     "exception": false,
     "start_time": "2021-10-03T21:47:39.596778",
     "status": "completed"
    },
    "tags": []
   },
   "outputs": [],
   "source": [
    "# drop the placeScore\n",
    "data.drop('placeScore', axis=1, inplace=True)"
   ]
  },
  {
   "cell_type": "code",
   "execution_count": 39,
   "id": "aae62325",
   "metadata": {
    "execution": {
     "iopub.execute_input": "2021-10-03T21:47:39.804874Z",
     "iopub.status.busy": "2021-10-03T21:47:39.804418Z",
     "iopub.status.idle": "2021-10-03T21:47:39.807700Z",
     "shell.execute_reply": "2021-10-03T21:47:39.807246Z",
     "shell.execute_reply.started": "2021-10-03T21:11:26.249805Z"
    },
    "papermill": {
     "duration": 0.067357,
     "end_time": "2021-10-03T21:47:39.807832",
     "exception": false,
     "start_time": "2021-10-03T21:47:39.740475",
     "status": "completed"
    },
    "tags": []
   },
   "outputs": [
    {
     "data": {
      "text/html": [
       "<div>\n",
       "<style scoped>\n",
       "    .dataframe tbody tr th:only-of-type {\n",
       "        vertical-align: middle;\n",
       "    }\n",
       "\n",
       "    .dataframe tbody tr th {\n",
       "        vertical-align: top;\n",
       "    }\n",
       "\n",
       "    .dataframe thead th {\n",
       "        text-align: right;\n",
       "    }\n",
       "</style>\n",
       "<table border=\"1\" class=\"dataframe\">\n",
       "  <thead>\n",
       "    <tr style=\"text-align: right;\">\n",
       "      <th></th>\n",
       "      <th>userID</th>\n",
       "      <th>placeID</th>\n",
       "      <th>name</th>\n",
       "      <th>rating</th>\n",
       "      <th>food_rating</th>\n",
       "      <th>service_rating</th>\n",
       "    </tr>\n",
       "  </thead>\n",
       "  <tbody>\n",
       "    <tr>\n",
       "      <th>0</th>\n",
       "      <td>U1077</td>\n",
       "      <td>135085</td>\n",
       "      <td>Tortas Locas Hipocampo</td>\n",
       "      <td>2</td>\n",
       "      <td>2</td>\n",
       "      <td>2</td>\n",
       "    </tr>\n",
       "    <tr>\n",
       "      <th>1</th>\n",
       "      <td>U1108</td>\n",
       "      <td>135085</td>\n",
       "      <td>Tortas Locas Hipocampo</td>\n",
       "      <td>1</td>\n",
       "      <td>2</td>\n",
       "      <td>1</td>\n",
       "    </tr>\n",
       "    <tr>\n",
       "      <th>2</th>\n",
       "      <td>U1081</td>\n",
       "      <td>135085</td>\n",
       "      <td>Tortas Locas Hipocampo</td>\n",
       "      <td>1</td>\n",
       "      <td>2</td>\n",
       "      <td>1</td>\n",
       "    </tr>\n",
       "    <tr>\n",
       "      <th>3</th>\n",
       "      <td>U1056</td>\n",
       "      <td>135085</td>\n",
       "      <td>Tortas Locas Hipocampo</td>\n",
       "      <td>2</td>\n",
       "      <td>2</td>\n",
       "      <td>2</td>\n",
       "    </tr>\n",
       "    <tr>\n",
       "      <th>4</th>\n",
       "      <td>U1134</td>\n",
       "      <td>135085</td>\n",
       "      <td>Tortas Locas Hipocampo</td>\n",
       "      <td>2</td>\n",
       "      <td>1</td>\n",
       "      <td>2</td>\n",
       "    </tr>\n",
       "  </tbody>\n",
       "</table>\n",
       "</div>"
      ],
      "text/plain": [
       "  userID  placeID                    name  rating  food_rating  service_rating\n",
       "0  U1077   135085  Tortas Locas Hipocampo       2            2               2\n",
       "1  U1108   135085  Tortas Locas Hipocampo       1            2               1\n",
       "2  U1081   135085  Tortas Locas Hipocampo       1            2               1\n",
       "3  U1056   135085  Tortas Locas Hipocampo       2            2               2\n",
       "4  U1134   135085  Tortas Locas Hipocampo       2            1               2"
      ]
     },
     "execution_count": 39,
     "metadata": {},
     "output_type": "execute_result"
    }
   ],
   "source": [
    "data.head()"
   ]
  },
  {
   "cell_type": "code",
   "execution_count": 40,
   "id": "cccb1dee",
   "metadata": {
    "execution": {
     "iopub.execute_input": "2021-10-03T21:47:40.095151Z",
     "iopub.status.busy": "2021-10-03T21:47:40.094610Z",
     "iopub.status.idle": "2021-10-03T21:47:40.097571Z",
     "shell.execute_reply": "2021-10-03T21:47:40.097184Z",
     "shell.execute_reply.started": "2021-10-03T21:11:26.473308Z"
    },
    "papermill": {
     "duration": 0.234471,
     "end_time": "2021-10-03T21:47:40.097702",
     "exception": false,
     "start_time": "2021-10-03T21:47:39.863231",
     "status": "completed"
    },
    "tags": []
   },
   "outputs": [],
   "source": [
    "# Create a reader object\n",
    "reader = Reader(rating_scale=(0,2)) # The Reader class is used to parse a file containing ratings.\n",
    "rating_data = Dataset.load_from_df(data[['userID', 'placeID', 'rating']], reader)"
   ]
  },
  {
   "cell_type": "code",
   "execution_count": 41,
   "id": "365e67b8",
   "metadata": {
    "execution": {
     "iopub.execute_input": "2021-10-03T21:47:40.215389Z",
     "iopub.status.busy": "2021-10-03T21:47:40.214953Z",
     "iopub.status.idle": "2021-10-03T21:47:40.876345Z",
     "shell.execute_reply": "2021-10-03T21:47:40.875286Z",
     "shell.execute_reply.started": "2021-10-03T21:11:26.703762Z"
    },
    "papermill": {
     "duration": 0.723742,
     "end_time": "2021-10-03T21:47:40.876507",
     "exception": false,
     "start_time": "2021-10-03T21:47:40.152765",
     "status": "completed"
    },
    "tags": []
   },
   "outputs": [
    {
     "name": "stdout",
     "output_type": "stream",
     "text": [
      "Processing epoch 0\n",
      "Processing epoch 1\n",
      "Processing epoch 2\n",
      "Processing epoch 3\n",
      "Processing epoch 4\n",
      "Processing epoch 5\n",
      "Processing epoch 6\n",
      "Processing epoch 7\n",
      "Processing epoch 8\n",
      "Processing epoch 9\n",
      "Processing epoch 10\n",
      "Processing epoch 11\n",
      "Processing epoch 12\n",
      "Processing epoch 13\n",
      "Processing epoch 14\n",
      "Processing epoch 15\n",
      "Processing epoch 16\n",
      "Processing epoch 17\n",
      "Processing epoch 18\n",
      "Processing epoch 19\n",
      "Processing epoch 20\n",
      "Processing epoch 21\n",
      "Processing epoch 22\n",
      "Processing epoch 23\n",
      "Processing epoch 24\n",
      "Processing epoch 25\n",
      "Processing epoch 26\n",
      "Processing epoch 27\n",
      "Processing epoch 28\n",
      "Processing epoch 29\n",
      "Processing epoch 30\n",
      "Processing epoch 31\n",
      "Processing epoch 32\n",
      "Processing epoch 33\n",
      "Processing epoch 34\n",
      "Processing epoch 35\n",
      "Processing epoch 36\n",
      "Processing epoch 37\n",
      "Processing epoch 38\n",
      "Processing epoch 39\n",
      "Processing epoch 40\n",
      "Processing epoch 41\n",
      "Processing epoch 42\n",
      "Processing epoch 43\n",
      "Processing epoch 44\n",
      "Processing epoch 45\n",
      "Processing epoch 46\n",
      "Processing epoch 47\n",
      "Processing epoch 48\n",
      "Processing epoch 49\n",
      "Processing epoch 50\n",
      "Processing epoch 51\n",
      "Processing epoch 52\n",
      "Processing epoch 53\n",
      "Processing epoch 54\n",
      "Processing epoch 55\n",
      "Processing epoch 56\n",
      "Processing epoch 57\n",
      "Processing epoch 58\n",
      "Processing epoch 59\n",
      "Processing epoch 60\n",
      "Processing epoch 61\n",
      "Processing epoch 62\n",
      "Processing epoch 63\n",
      "Processing epoch 64\n",
      "Processing epoch 65\n",
      "Processing epoch 66\n",
      "Processing epoch 67\n",
      "Processing epoch 68\n",
      "Processing epoch 69\n",
      "Processing epoch 70\n",
      "Processing epoch 71\n",
      "Processing epoch 72\n",
      "Processing epoch 73\n",
      "Processing epoch 74\n",
      "Processing epoch 75\n",
      "Processing epoch 76\n",
      "Processing epoch 77\n",
      "Processing epoch 78\n",
      "Processing epoch 79\n",
      "Processing epoch 80\n",
      "Processing epoch 81\n",
      "Processing epoch 82\n",
      "Processing epoch 83\n",
      "Processing epoch 84\n",
      "Processing epoch 85\n",
      "Processing epoch 86\n",
      "Processing epoch 87\n",
      "Processing epoch 88\n",
      "Processing epoch 89\n",
      "Processing epoch 90\n",
      "Processing epoch 91\n",
      "Processing epoch 92\n",
      "Processing epoch 93\n",
      "Processing epoch 94\n",
      "Processing epoch 95\n",
      "Processing epoch 96\n",
      "Processing epoch 97\n",
      "Processing epoch 98\n",
      "Processing epoch 99\n",
      "Processing epoch 0\n",
      "Processing epoch 1\n",
      "Processing epoch 2\n",
      "Processing epoch 3\n",
      "Processing epoch 4\n",
      "Processing epoch 5\n",
      "Processing epoch 6\n",
      "Processing epoch 7\n",
      "Processing epoch 8\n",
      "Processing epoch 9\n",
      "Processing epoch 10\n",
      "Processing epoch 11\n",
      "Processing epoch 12\n",
      "Processing epoch 13\n",
      "Processing epoch 14\n",
      "Processing epoch 15\n",
      "Processing epoch 16\n",
      "Processing epoch 17\n",
      "Processing epoch 18\n",
      "Processing epoch 19\n",
      "Processing epoch 20\n",
      "Processing epoch 21\n",
      "Processing epoch 22\n",
      "Processing epoch 23\n",
      "Processing epoch 24\n",
      "Processing epoch 25\n",
      "Processing epoch 26\n",
      "Processing epoch 27\n",
      "Processing epoch 28\n",
      "Processing epoch 29\n",
      "Processing epoch 30\n",
      "Processing epoch 31\n",
      "Processing epoch 32\n",
      "Processing epoch 33\n",
      "Processing epoch 34\n",
      "Processing epoch 35\n",
      "Processing epoch 36\n",
      "Processing epoch 37\n",
      "Processing epoch 38\n",
      "Processing epoch 39\n",
      "Processing epoch 40\n",
      "Processing epoch 41\n",
      "Processing epoch 42\n",
      "Processing epoch 43\n",
      "Processing epoch 44\n",
      "Processing epoch 45\n",
      "Processing epoch 46\n",
      "Processing epoch 47\n",
      "Processing epoch 48\n",
      "Processing epoch 49\n",
      "Processing epoch 50\n",
      "Processing epoch 51\n",
      "Processing epoch 52\n",
      "Processing epoch 53\n",
      "Processing epoch 54\n",
      "Processing epoch 55\n",
      "Processing epoch 56\n",
      "Processing epoch 57\n",
      "Processing epoch 58\n",
      "Processing epoch 59\n",
      "Processing epoch 60\n",
      "Processing epoch 61\n",
      "Processing epoch 62\n",
      "Processing epoch 63\n",
      "Processing epoch 64\n",
      "Processing epoch 65\n",
      "Processing epoch 66\n",
      "Processing epoch 67\n",
      "Processing epoch 68\n",
      "Processing epoch 69\n",
      "Processing epoch 70\n",
      "Processing epoch 71\n",
      "Processing epoch 72\n",
      "Processing epoch 73\n",
      "Processing epoch 74\n",
      "Processing epoch 75\n",
      "Processing epoch 76\n",
      "Processing epoch 77\n",
      "Processing epoch 78\n",
      "Processing epoch 79\n",
      "Processing epoch 80\n",
      "Processing epoch 81\n",
      "Processing epoch 82\n",
      "Processing epoch 83\n",
      "Processing epoch 84\n",
      "Processing epoch 85\n",
      "Processing epoch 86\n",
      "Processing epoch 87\n",
      "Processing epoch 88\n",
      "Processing epoch 89\n",
      "Processing epoch 90\n",
      "Processing epoch 91\n",
      "Processing epoch 92\n",
      "Processing epoch 93\n",
      "Processing epoch 94\n",
      "Processing epoch 95\n",
      "Processing epoch 96\n",
      "Processing epoch 97\n",
      "Processing epoch 98\n",
      "Processing epoch 99\n",
      "Processing epoch 0\n",
      "Processing epoch 1\n",
      "Processing epoch 2\n",
      "Processing epoch 3\n",
      "Processing epoch 4\n",
      "Processing epoch 5\n",
      "Processing epoch 6\n",
      "Processing epoch 7\n",
      "Processing epoch 8\n",
      "Processing epoch 9\n",
      "Processing epoch 10\n",
      "Processing epoch 11\n",
      "Processing epoch 12\n",
      "Processing epoch 13\n",
      "Processing epoch 14\n",
      "Processing epoch 15\n",
      "Processing epoch 16\n",
      "Processing epoch 17\n",
      "Processing epoch 18\n",
      "Processing epoch 19\n",
      "Processing epoch 20\n",
      "Processing epoch 21\n",
      "Processing epoch 22\n",
      "Processing epoch 23\n",
      "Processing epoch 24\n",
      "Processing epoch 25\n",
      "Processing epoch 26\n",
      "Processing epoch 27\n",
      "Processing epoch 28\n",
      "Processing epoch 29\n",
      "Processing epoch 30\n",
      "Processing epoch 31\n",
      "Processing epoch 32\n",
      "Processing epoch 33\n",
      "Processing epoch 34\n",
      "Processing epoch 35\n",
      "Processing epoch 36\n",
      "Processing epoch 37\n",
      "Processing epoch 38\n",
      "Processing epoch 39\n",
      "Processing epoch 40\n",
      "Processing epoch 41\n",
      "Processing epoch 42\n",
      "Processing epoch 43\n",
      "Processing epoch 44\n",
      "Processing epoch 45\n",
      "Processing epoch 46\n",
      "Processing epoch 47\n",
      "Processing epoch 48\n",
      "Processing epoch 49\n",
      "Processing epoch 50\n",
      "Processing epoch 51\n",
      "Processing epoch 52\n",
      "Processing epoch 53\n",
      "Processing epoch 54\n",
      "Processing epoch 55\n",
      "Processing epoch 56\n",
      "Processing epoch 57\n",
      "Processing epoch 58\n",
      "Processing epoch 59\n",
      "Processing epoch 60\n",
      "Processing epoch 61\n",
      "Processing epoch 62\n",
      "Processing epoch 63\n",
      "Processing epoch 64\n",
      "Processing epoch 65\n",
      "Processing epoch 66\n",
      "Processing epoch 67\n",
      "Processing epoch 68\n",
      "Processing epoch 69\n",
      "Processing epoch 70\n",
      "Processing epoch 71\n",
      "Processing epoch 72\n",
      "Processing epoch 73\n",
      "Processing epoch 74\n",
      "Processing epoch 75\n",
      "Processing epoch 76\n",
      "Processing epoch 77\n",
      "Processing epoch 78\n",
      "Processing epoch 79\n",
      "Processing epoch 80\n",
      "Processing epoch 81\n",
      "Processing epoch 82\n",
      "Processing epoch 83\n",
      "Processing epoch 84\n",
      "Processing epoch 85\n",
      "Processing epoch 86\n",
      "Processing epoch 87\n",
      "Processing epoch 88\n",
      "Processing epoch 89\n",
      "Processing epoch 90\n",
      "Processing epoch 91\n",
      "Processing epoch 92\n",
      "Processing epoch 93\n",
      "Processing epoch 94\n",
      "Processing epoch 95\n",
      "Processing epoch 96\n",
      "Processing epoch 97\n",
      "Processing epoch 98\n",
      "Processing epoch 99\n",
      "Evaluating RMSE, MAE of algorithm SVD on 3 split(s).\n",
      "\n",
      "                  Fold 1  Fold 2  Fold 3  Mean    Std     \n",
      "RMSE (testset)    0.6524  0.6521  0.6742  0.6596  0.0104  \n",
      "MAE (testset)     0.5332  0.5303  0.5565  0.5400  0.0117  \n",
      "Fit time          0.21    0.20    0.21    0.21    0.00    \n",
      "Test time         0.01    0.00    0.01    0.01    0.00    \n"
     ]
    }
   ],
   "source": [
    "# using Singular Value Decomposition (Matrix Factorisation) to build the recommender system\n",
    "svd = SVD(verbose=True, n_epochs=100)\n",
    "svd_results = cross_validate(svd, rating_data, measures=['RMSE', 'MAE'], cv=3, verbose=True)"
   ]
  },
  {
   "cell_type": "code",
   "execution_count": 42,
   "id": "df304516",
   "metadata": {
    "execution": {
     "iopub.execute_input": "2021-10-03T21:47:40.996501Z",
     "iopub.status.busy": "2021-10-03T21:47:40.995950Z",
     "iopub.status.idle": "2021-10-03T21:47:40.999389Z",
     "shell.execute_reply": "2021-10-03T21:47:40.999009Z",
     "shell.execute_reply.started": "2021-10-03T21:11:27.999423Z"
    },
    "papermill": {
     "duration": 0.065202,
     "end_time": "2021-10-03T21:47:40.999488",
     "exception": false,
     "start_time": "2021-10-03T21:47:40.934286",
     "status": "completed"
    },
    "tags": []
   },
   "outputs": [
    {
     "data": {
      "text/plain": [
       "{'test_rmse': array([0.65241163, 0.65206459, 0.6741981 ]),\n",
       " 'test_mae': array([0.53317187, 0.5303285 , 0.55654161]),\n",
       " 'fit_time': (0.20531439781188965, 0.2041006088256836, 0.20993900299072266),\n",
       " 'test_time': (0.014209270477294922,\n",
       "  0.004778146743774414,\n",
       "  0.013822317123413086)}"
      ]
     },
     "execution_count": 42,
     "metadata": {},
     "output_type": "execute_result"
    }
   ],
   "source": [
    "svd_results"
   ]
  },
  {
   "cell_type": "code",
   "execution_count": 43,
   "id": "25100f25",
   "metadata": {
    "execution": {
     "iopub.execute_input": "2021-10-03T21:47:41.114962Z",
     "iopub.status.busy": "2021-10-03T21:47:41.114510Z",
     "iopub.status.idle": "2021-10-03T21:47:41.154416Z",
     "shell.execute_reply": "2021-10-03T21:47:41.154824Z",
     "shell.execute_reply.started": "2021-10-03T21:11:28.009385Z"
    },
    "papermill": {
     "duration": 0.098044,
     "end_time": "2021-10-03T21:47:41.154940",
     "exception": false,
     "start_time": "2021-10-03T21:47:41.056896",
     "status": "completed"
    },
    "tags": []
   },
   "outputs": [
    {
     "name": "stdout",
     "output_type": "stream",
     "text": [
      "Evaluating RMSE, MAE of algorithm SlopeOne on 3 split(s).\n",
      "\n",
      "                  Fold 1  Fold 2  Fold 3  Mean    Std     \n",
      "RMSE (testset)    0.7478  0.7206  0.7579  0.7421  0.0157  \n",
      "MAE (testset)     0.5590  0.5409  0.5699  0.5566  0.0119  \n",
      "Fit time          0.00    0.00    0.00    0.00    0.00    \n",
      "Test time         0.01    0.01    0.01    0.01    0.00    \n"
     ]
    }
   ],
   "source": [
    "# SlopOne results\n",
    "slope_one = SlopeOne()\n",
    "slope_one_results = cross_validate(slope_one, rating_data, measures=['RMSE', 'MAE'], cv=3, verbose=True)"
   ]
  },
  {
   "cell_type": "code",
   "execution_count": 44,
   "id": "30cbdbf6",
   "metadata": {
    "execution": {
     "iopub.execute_input": "2021-10-03T21:47:41.273501Z",
     "iopub.status.busy": "2021-10-03T21:47:41.273055Z",
     "iopub.status.idle": "2021-10-03T21:47:41.276664Z",
     "shell.execute_reply": "2021-10-03T21:47:41.276220Z",
     "shell.execute_reply.started": "2021-10-03T21:11:28.054485Z"
    },
    "papermill": {
     "duration": 0.065215,
     "end_time": "2021-10-03T21:47:41.276751",
     "exception": false,
     "start_time": "2021-10-03T21:47:41.211536",
     "status": "completed"
    },
    "tags": []
   },
   "outputs": [
    {
     "data": {
      "text/plain": [
       "{'test_rmse': array([0.7478359 , 0.72059367, 0.7578671 ]),\n",
       " 'test_mae': array([0.55897558, 0.54093603, 0.56985417]),\n",
       " 'fit_time': (0.0028438568115234375,\n",
       "  0.0028791427612304688,\n",
       "  0.0028541088104248047),\n",
       " 'test_time': (0.006306648254394531,\n",
       "  0.005585670471191406,\n",
       "  0.006272077560424805)}"
      ]
     },
     "execution_count": 44,
     "metadata": {},
     "output_type": "execute_result"
    }
   ],
   "source": [
    "slope_one_results"
   ]
  },
  {
   "cell_type": "code",
   "execution_count": 45,
   "id": "e3c098e8",
   "metadata": {
    "execution": {
     "iopub.execute_input": "2021-10-03T21:47:41.393710Z",
     "iopub.status.busy": "2021-10-03T21:47:41.393235Z",
     "iopub.status.idle": "2021-10-03T21:47:42.062031Z",
     "shell.execute_reply": "2021-10-03T21:47:42.061584Z",
     "shell.execute_reply.started": "2021-10-03T21:11:28.060746Z"
    },
    "papermill": {
     "duration": 0.728639,
     "end_time": "2021-10-03T21:47:42.062134",
     "exception": false,
     "start_time": "2021-10-03T21:47:41.333495",
     "status": "completed"
    },
    "tags": []
   },
   "outputs": [
    {
     "name": "stdout",
     "output_type": "stream",
     "text": [
      "Processing epoch 0\n",
      "Processing epoch 1\n",
      "Processing epoch 2\n",
      "Processing epoch 3\n",
      "Processing epoch 4\n",
      "Processing epoch 5\n",
      "Processing epoch 6\n",
      "Processing epoch 7\n",
      "Processing epoch 8\n",
      "Processing epoch 9\n",
      "Processing epoch 10\n",
      "Processing epoch 11\n",
      "Processing epoch 12\n",
      "Processing epoch 13\n",
      "Processing epoch 14\n",
      "Processing epoch 15\n",
      "Processing epoch 16\n",
      "Processing epoch 17\n",
      "Processing epoch 18\n",
      "Processing epoch 19\n",
      "Processing epoch 20\n",
      "Processing epoch 21\n",
      "Processing epoch 22\n",
      "Processing epoch 23\n",
      "Processing epoch 24\n",
      "Processing epoch 25\n",
      "Processing epoch 26\n",
      "Processing epoch 27\n",
      "Processing epoch 28\n",
      "Processing epoch 29\n",
      "Processing epoch 30\n",
      "Processing epoch 31\n",
      "Processing epoch 32\n",
      "Processing epoch 33\n",
      "Processing epoch 34\n",
      "Processing epoch 35\n",
      "Processing epoch 36\n",
      "Processing epoch 37\n",
      "Processing epoch 38\n",
      "Processing epoch 39\n",
      "Processing epoch 40\n",
      "Processing epoch 41\n",
      "Processing epoch 42\n",
      "Processing epoch 43\n",
      "Processing epoch 44\n",
      "Processing epoch 45\n",
      "Processing epoch 46\n",
      "Processing epoch 47\n",
      "Processing epoch 48\n",
      "Processing epoch 49\n",
      "Processing epoch 50\n",
      "Processing epoch 51\n",
      "Processing epoch 52\n",
      "Processing epoch 53\n",
      "Processing epoch 54\n",
      "Processing epoch 55\n",
      "Processing epoch 56\n",
      "Processing epoch 57\n",
      "Processing epoch 58\n",
      "Processing epoch 59\n",
      "Processing epoch 60\n",
      "Processing epoch 61\n",
      "Processing epoch 62\n",
      "Processing epoch 63\n",
      "Processing epoch 64\n",
      "Processing epoch 65\n",
      "Processing epoch 66\n",
      "Processing epoch 67\n",
      "Processing epoch 68\n",
      "Processing epoch 69\n",
      "Processing epoch 70\n",
      "Processing epoch 71\n",
      "Processing epoch 72\n",
      "Processing epoch 73\n",
      "Processing epoch 74\n",
      "Processing epoch 75\n",
      "Processing epoch 76\n",
      "Processing epoch 77\n",
      "Processing epoch 78\n",
      "Processing epoch 79\n",
      "Processing epoch 80\n",
      "Processing epoch 81\n",
      "Processing epoch 82\n",
      "Processing epoch 83\n",
      "Processing epoch 84\n",
      "Processing epoch 85\n",
      "Processing epoch 86\n",
      "Processing epoch 87\n",
      "Processing epoch 88\n",
      "Processing epoch 89\n",
      "Processing epoch 90\n",
      "Processing epoch 91\n",
      "Processing epoch 92\n",
      "Processing epoch 93\n",
      "Processing epoch 94\n",
      "Processing epoch 95\n",
      "Processing epoch 96\n",
      "Processing epoch 97\n",
      "Processing epoch 98\n",
      "Processing epoch 99\n",
      "Processing epoch 0\n",
      "Processing epoch 1\n",
      "Processing epoch 2\n",
      "Processing epoch 3\n",
      "Processing epoch 4\n",
      "Processing epoch 5\n",
      "Processing epoch 6\n",
      "Processing epoch 7\n",
      "Processing epoch 8\n",
      "Processing epoch 9\n",
      "Processing epoch 10\n",
      "Processing epoch 11\n",
      "Processing epoch 12\n",
      "Processing epoch 13\n",
      "Processing epoch 14\n",
      "Processing epoch 15\n",
      "Processing epoch 16\n",
      "Processing epoch 17\n",
      "Processing epoch 18\n",
      "Processing epoch 19\n",
      "Processing epoch 20\n",
      "Processing epoch 21\n",
      "Processing epoch 22\n",
      "Processing epoch 23\n",
      "Processing epoch 24\n",
      "Processing epoch 25\n",
      "Processing epoch 26\n",
      "Processing epoch 27\n",
      "Processing epoch 28\n",
      "Processing epoch 29\n",
      "Processing epoch 30\n",
      "Processing epoch 31\n",
      "Processing epoch 32\n",
      "Processing epoch 33\n",
      "Processing epoch 34\n",
      "Processing epoch 35\n",
      "Processing epoch 36\n",
      "Processing epoch 37\n",
      "Processing epoch 38\n",
      "Processing epoch 39\n",
      "Processing epoch 40\n",
      "Processing epoch 41\n",
      "Processing epoch 42\n",
      "Processing epoch 43\n",
      "Processing epoch 44\n",
      "Processing epoch 45\n",
      "Processing epoch 46\n",
      "Processing epoch 47\n",
      "Processing epoch 48\n",
      "Processing epoch 49\n",
      "Processing epoch 50\n",
      "Processing epoch 51\n",
      "Processing epoch 52\n",
      "Processing epoch 53\n",
      "Processing epoch 54\n",
      "Processing epoch 55\n",
      "Processing epoch 56\n",
      "Processing epoch 57\n",
      "Processing epoch 58\n",
      "Processing epoch 59\n",
      "Processing epoch 60\n",
      "Processing epoch 61\n",
      "Processing epoch 62\n",
      "Processing epoch 63\n",
      "Processing epoch 64\n",
      "Processing epoch 65\n",
      "Processing epoch 66\n",
      "Processing epoch 67\n",
      "Processing epoch 68\n",
      "Processing epoch 69\n",
      "Processing epoch 70\n",
      "Processing epoch 71\n",
      "Processing epoch 72\n",
      "Processing epoch 73\n",
      "Processing epoch 74\n",
      "Processing epoch 75\n",
      "Processing epoch 76\n",
      "Processing epoch 77\n",
      "Processing epoch 78\n",
      "Processing epoch 79\n",
      "Processing epoch 80\n",
      "Processing epoch 81\n",
      "Processing epoch 82\n",
      "Processing epoch 83\n",
      "Processing epoch 84\n",
      "Processing epoch 85\n",
      "Processing epoch 86\n",
      "Processing epoch 87\n",
      "Processing epoch 88\n",
      "Processing epoch 89\n",
      "Processing epoch 90\n",
      "Processing epoch 91\n",
      "Processing epoch 92\n",
      "Processing epoch 93\n",
      "Processing epoch 94\n",
      "Processing epoch 95\n",
      "Processing epoch 96\n",
      "Processing epoch 97\n",
      "Processing epoch 98\n",
      "Processing epoch 99\n",
      "Processing epoch 0\n",
      "Processing epoch 1\n",
      "Processing epoch 2\n",
      "Processing epoch 3\n",
      "Processing epoch 4\n",
      "Processing epoch 5\n",
      "Processing epoch 6\n",
      "Processing epoch 7\n",
      "Processing epoch 8\n",
      "Processing epoch 9\n",
      "Processing epoch 10\n",
      "Processing epoch 11\n",
      "Processing epoch 12\n",
      "Processing epoch 13\n",
      "Processing epoch 14\n",
      "Processing epoch 15\n",
      "Processing epoch 16\n",
      "Processing epoch 17\n",
      "Processing epoch 18\n",
      "Processing epoch 19\n",
      "Processing epoch 20\n",
      "Processing epoch 21\n",
      "Processing epoch 22\n",
      "Processing epoch 23\n",
      "Processing epoch 24\n",
      "Processing epoch 25\n",
      "Processing epoch 26\n",
      "Processing epoch 27\n",
      "Processing epoch 28\n",
      "Processing epoch 29\n",
      "Processing epoch 30\n",
      "Processing epoch 31\n",
      "Processing epoch 32\n",
      "Processing epoch 33\n",
      "Processing epoch 34\n",
      "Processing epoch 35\n",
      "Processing epoch 36\n",
      "Processing epoch 37\n",
      "Processing epoch 38\n",
      "Processing epoch 39\n",
      "Processing epoch 40\n",
      "Processing epoch 41\n",
      "Processing epoch 42\n",
      "Processing epoch 43\n",
      "Processing epoch 44\n",
      "Processing epoch 45\n",
      "Processing epoch 46\n",
      "Processing epoch 47\n",
      "Processing epoch 48\n",
      "Processing epoch 49\n",
      "Processing epoch 50\n",
      "Processing epoch 51\n",
      "Processing epoch 52\n",
      "Processing epoch 53\n",
      "Processing epoch 54\n",
      "Processing epoch 55\n",
      "Processing epoch 56\n",
      "Processing epoch 57\n",
      "Processing epoch 58\n",
      "Processing epoch 59\n",
      "Processing epoch 60\n",
      "Processing epoch 61\n",
      "Processing epoch 62\n",
      "Processing epoch 63\n",
      "Processing epoch 64\n",
      "Processing epoch 65\n",
      "Processing epoch 66\n",
      "Processing epoch 67\n",
      "Processing epoch 68\n",
      "Processing epoch 69\n",
      "Processing epoch 70\n",
      "Processing epoch 71\n",
      "Processing epoch 72\n",
      "Processing epoch 73\n",
      "Processing epoch 74\n",
      "Processing epoch 75\n",
      "Processing epoch 76\n",
      "Processing epoch 77\n",
      "Processing epoch 78\n",
      "Processing epoch 79\n",
      "Processing epoch 80\n",
      "Processing epoch 81\n",
      "Processing epoch 82\n",
      "Processing epoch 83\n",
      "Processing epoch 84\n",
      "Processing epoch 85\n",
      "Processing epoch 86\n",
      "Processing epoch 87\n",
      "Processing epoch 88\n",
      "Processing epoch 89\n",
      "Processing epoch 90\n",
      "Processing epoch 91\n",
      "Processing epoch 92\n",
      "Processing epoch 93\n",
      "Processing epoch 94\n",
      "Processing epoch 95\n",
      "Processing epoch 96\n",
      "Processing epoch 97\n",
      "Processing epoch 98\n",
      "Processing epoch 99\n",
      "Evaluating RMSE, MAE of algorithm CoClustering on 3 split(s).\n",
      "\n",
      "                  Fold 1  Fold 2  Fold 3  Mean    Std     \n",
      "RMSE (testset)    0.7082  0.6978  0.7224  0.7095  0.0101  \n",
      "MAE (testset)     0.5183  0.5157  0.5413  0.5251  0.0115  \n",
      "Fit time          0.27    0.22    0.16    0.22    0.04    \n",
      "Test time         0.00    0.00    0.00    0.00    0.00    \n"
     ]
    }
   ],
   "source": [
    "# CoClustering\n",
    "co_clustering = CoClustering(n_epochs=100, verbose=True, random_state=0)\n",
    "co_clustering_results = cross_validate(co_clustering, rating_data, measures=['RMSE', 'MAE'], cv=3, verbose=True)"
   ]
  },
  {
   "cell_type": "code",
   "execution_count": 46,
   "id": "063df5a7",
   "metadata": {
    "execution": {
     "iopub.execute_input": "2021-10-03T21:47:42.185844Z",
     "iopub.status.busy": "2021-10-03T21:47:42.185332Z",
     "iopub.status.idle": "2021-10-03T21:47:42.187675Z",
     "shell.execute_reply": "2021-10-03T21:47:42.187264Z",
     "shell.execute_reply.started": "2021-10-03T21:11:29.010185Z"
    },
    "papermill": {
     "duration": 0.067072,
     "end_time": "2021-10-03T21:47:42.187767",
     "exception": false,
     "start_time": "2021-10-03T21:47:42.120695",
     "status": "completed"
    },
    "tags": []
   },
   "outputs": [
    {
     "data": {
      "text/plain": [
       "{'test_rmse': array([0.7081581 , 0.69775309, 0.72244515]),\n",
       " 'test_mae': array([0.51828457, 0.515731  , 0.54130971]),\n",
       " 'fit_time': (0.2681713104248047, 0.2210230827331543, 0.16086935997009277),\n",
       " 'test_time': (0.004067897796630859,\n",
       "  0.001802206039428711,\n",
       "  0.002110719680786133)}"
      ]
     },
     "execution_count": 46,
     "metadata": {},
     "output_type": "execute_result"
    }
   ],
   "source": [
    "co_clustering_results"
   ]
  },
  {
   "cell_type": "code",
   "execution_count": 47,
   "id": "031d51a7",
   "metadata": {
    "execution": {
     "iopub.execute_input": "2021-10-03T21:47:42.309686Z",
     "iopub.status.busy": "2021-10-03T21:47:42.309185Z",
     "iopub.status.idle": "2021-10-03T21:47:42.339331Z",
     "shell.execute_reply": "2021-10-03T21:47:42.338610Z",
     "shell.execute_reply.started": "2021-10-03T21:11:29.018951Z"
    },
    "papermill": {
     "duration": 0.093278,
     "end_time": "2021-10-03T21:47:42.339471",
     "exception": false,
     "start_time": "2021-10-03T21:47:42.246193",
     "status": "completed"
    },
    "tags": []
   },
   "outputs": [
    {
     "name": "stdout",
     "output_type": "stream",
     "text": [
      "Computing the msd similarity matrix...\n",
      "Done computing similarity matrix.\n",
      "Computing the msd similarity matrix...\n",
      "Done computing similarity matrix.\n",
      "Computing the msd similarity matrix...\n",
      "Done computing similarity matrix.\n",
      "Evaluating RMSE, MAE of algorithm KNNBasic on 3 split(s).\n",
      "\n",
      "                  Fold 1  Fold 2  Fold 3  Mean    Std     \n",
      "RMSE (testset)    0.8333  0.8130  0.8472  0.8312  0.0141  \n",
      "MAE (testset)     0.6889  0.6639  0.6989  0.6839  0.0147  \n",
      "Fit time          0.00    0.00    0.00    0.00    0.00    \n",
      "Test time         0.01    0.01    0.01    0.01    0.00    \n"
     ]
    }
   ],
   "source": [
    "# KNNBasic\n",
    "knn_basic = KNNBasic(k=50)\n",
    "knn_basic_results = cross_validate(knn_basic, rating_data, measures=['RMSE', 'MAE'], cv=3, verbose=True)"
   ]
  },
  {
   "cell_type": "code",
   "execution_count": 48,
   "id": "83f60b78",
   "metadata": {
    "execution": {
     "iopub.execute_input": "2021-10-03T21:47:42.479731Z",
     "iopub.status.busy": "2021-10-03T21:47:42.466547Z",
     "iopub.status.idle": "2021-10-03T21:47:42.525323Z",
     "shell.execute_reply": "2021-10-03T21:47:42.525856Z",
     "shell.execute_reply.started": "2021-10-03T21:11:29.074187Z"
    },
    "papermill": {
     "duration": 0.125072,
     "end_time": "2021-10-03T21:47:42.526027",
     "exception": false,
     "start_time": "2021-10-03T21:47:42.400955",
     "status": "completed"
    },
    "tags": []
   },
   "outputs": [
    {
     "name": "stdout",
     "output_type": "stream",
     "text": [
      "Computing the msd similarity matrix...\n",
      "Done computing similarity matrix.\n",
      "Computing the msd similarity matrix...\n",
      "Done computing similarity matrix.\n",
      "Computing the msd similarity matrix...\n",
      "Done computing similarity matrix.\n",
      "Evaluating RMSE, MAE of algorithm KNNWithMeans on 3 split(s).\n",
      "\n",
      "                  Fold 1  Fold 2  Fold 3  Mean    Std     \n",
      "RMSE (testset)    0.7115  0.6834  0.6600  0.6850  0.0211  \n",
      "MAE (testset)     0.5279  0.5065  0.4987  0.5110  0.0124  \n",
      "Fit time          0.00    0.00    0.00    0.00    0.00    \n",
      "Test time         0.01    0.01    0.01    0.01    0.00    \n"
     ]
    }
   ],
   "source": [
    "#KNNWithMeans\n",
    "knn_means = KNNWithMeans(k=100)\n",
    "knn_means_results = cross_validate(knn_means, rating_data, measures=['RMSE', 'MAE'], cv=3, verbose=True)"
   ]
  },
  {
   "cell_type": "code",
   "execution_count": 49,
   "id": "5f8ca039",
   "metadata": {
    "execution": {
     "iopub.execute_input": "2021-10-03T21:47:42.706725Z",
     "iopub.status.busy": "2021-10-03T21:47:42.706113Z",
     "iopub.status.idle": "2021-10-03T21:47:42.708893Z",
     "shell.execute_reply": "2021-10-03T21:47:42.708357Z",
     "shell.execute_reply.started": "2021-10-03T21:11:29.132786Z"
    },
    "papermill": {
     "duration": 0.094893,
     "end_time": "2021-10-03T21:47:42.709001",
     "exception": false,
     "start_time": "2021-10-03T21:47:42.614108",
     "status": "completed"
    },
    "tags": []
   },
   "outputs": [
    {
     "data": {
      "text/plain": [
       "{'test_rmse': array([0.71150158, 0.68343249, 0.66000615]),\n",
       " 'test_mae': array([0.52789367, 0.50647892, 0.49865705]),\n",
       " 'fit_time': (0.0034956932067871094,\n",
       "  0.0031571388244628906,\n",
       "  0.002978086471557617),\n",
       " 'test_time': (0.013225555419921875,\n",
       "  0.012157440185546875,\n",
       "  0.012995481491088867)}"
      ]
     },
     "execution_count": 49,
     "metadata": {},
     "output_type": "execute_result"
    }
   ],
   "source": [
    "knn_means_results"
   ]
  },
  {
   "cell_type": "code",
   "execution_count": 50,
   "id": "025d66a1",
   "metadata": {
    "execution": {
     "iopub.execute_input": "2021-10-03T21:47:42.923552Z",
     "iopub.status.busy": "2021-10-03T21:47:42.894519Z",
     "iopub.status.idle": "2021-10-03T21:47:42.936260Z",
     "shell.execute_reply": "2021-10-03T21:47:42.935836Z",
     "shell.execute_reply.started": "2021-10-03T21:11:29.140823Z"
    },
    "papermill": {
     "duration": 0.139584,
     "end_time": "2021-10-03T21:47:42.936347",
     "exception": false,
     "start_time": "2021-10-03T21:47:42.796763",
     "status": "completed"
    },
    "tags": []
   },
   "outputs": [
    {
     "name": "stdout",
     "output_type": "stream",
     "text": [
      "Computing the msd similarity matrix...\n",
      "Done computing similarity matrix.\n",
      "Computing the msd similarity matrix...\n",
      "Done computing similarity matrix.\n",
      "Computing the msd similarity matrix...\n",
      "Done computing similarity matrix.\n",
      "Evaluating RMSE, MAE of algorithm KNNWithZScore on 3 split(s).\n",
      "\n",
      "                  Fold 1  Fold 2  Fold 3  Mean    Std     \n",
      "RMSE (testset)    0.6934  0.6971  0.6985  0.6963  0.0021  \n",
      "MAE (testset)     0.5308  0.5245  0.5051  0.5201  0.0109  \n",
      "Fit time          0.01    0.01    0.01    0.01    0.00    \n",
      "Test time         0.01    0.01    0.01    0.01    0.00    \n"
     ]
    }
   ],
   "source": [
    "#KNNWithZScore\n",
    "knn_zscore = KNNWithZScore(k=100)\n",
    "knn_zscore_results = cross_validate(knn_zscore, rating_data, measures=['RMSE', 'MAE'], cv=3, verbose=True)"
   ]
  },
  {
   "cell_type": "code",
   "execution_count": 51,
   "id": "d9e13a8c",
   "metadata": {
    "execution": {
     "iopub.execute_input": "2021-10-03T21:47:43.061648Z",
     "iopub.status.busy": "2021-10-03T21:47:43.061205Z",
     "iopub.status.idle": "2021-10-03T21:47:43.064502Z",
     "shell.execute_reply": "2021-10-03T21:47:43.064077Z",
     "shell.execute_reply.started": "2021-10-03T21:11:29.227843Z"
    },
    "papermill": {
     "duration": 0.068067,
     "end_time": "2021-10-03T21:47:43.064603",
     "exception": false,
     "start_time": "2021-10-03T21:47:42.996536",
     "status": "completed"
    },
    "tags": []
   },
   "outputs": [
    {
     "data": {
      "text/plain": [
       "array([[0.65241163, 0.65206459, 0.6741981 ],\n",
       "       [0.7081581 , 0.69775309, 0.72244515],\n",
       "       [0.7478359 , 0.72059367, 0.7578671 ],\n",
       "       [0.83331927, 0.81295091, 0.84723725],\n",
       "       [0.71150158, 0.68343249, 0.66000615],\n",
       "       [0.69339737, 0.69708389, 0.69847407]])"
      ]
     },
     "execution_count": 51,
     "metadata": {},
     "output_type": "execute_result"
    }
   ],
   "source": [
    "np.array((svd_results['test_rmse'], \n",
    " co_clustering_results['test_rmse'], \n",
    " slope_one_results['test_rmse'],\n",
    " knn_basic_results['test_rmse'], \n",
    " knn_means_results['test_rmse'], \n",
    " knn_zscore_results['test_rmse']))"
   ]
  },
  {
   "cell_type": "code",
   "execution_count": 52,
   "id": "571a1723",
   "metadata": {
    "execution": {
     "iopub.execute_input": "2021-10-03T21:47:43.191053Z",
     "iopub.status.busy": "2021-10-03T21:47:43.190440Z",
     "iopub.status.idle": "2021-10-03T21:47:43.192775Z",
     "shell.execute_reply": "2021-10-03T21:47:43.192317Z",
     "shell.execute_reply.started": "2021-10-03T21:11:29.376627Z"
    },
    "papermill": {
     "duration": 0.0676,
     "end_time": "2021-10-03T21:47:43.192870",
     "exception": false,
     "start_time": "2021-10-03T21:47:43.125270",
     "status": "completed"
    },
    "tags": []
   },
   "outputs": [],
   "source": [
    "# Concat the results of all the models\n",
    "results = np.array((svd_results['test_rmse'], \n",
    "                    co_clustering_results['test_rmse'], \n",
    "                    slope_one_results['test_rmse'],\n",
    "                    knn_basic_results['test_rmse'], \n",
    "                    knn_means_results['test_rmse'], \n",
    "                    knn_zscore_results['test_rmse']))\n",
    "\n",
    "result_df = pd.DataFrame(results, \n",
    "                         index=['SVD', 'CoClustering', 'SlopeOne', 'KNN_Basic', 'KNN_Means', 'KNN_ZScore'],\n",
    "                         columns=['RMSE_fold_1','RMSE_fold_2','RMSE_fold_3'])"
   ]
  },
  {
   "cell_type": "code",
   "execution_count": 53,
   "id": "10ef15c9",
   "metadata": {
    "execution": {
     "iopub.execute_input": "2021-10-03T21:47:43.317771Z",
     "iopub.status.busy": "2021-10-03T21:47:43.317301Z",
     "iopub.status.idle": "2021-10-03T21:47:43.319129Z",
     "shell.execute_reply": "2021-10-03T21:47:43.319583Z",
     "shell.execute_reply.started": "2021-10-03T21:11:29.603899Z"
    },
    "papermill": {
     "duration": 0.067616,
     "end_time": "2021-10-03T21:47:43.319739",
     "exception": false,
     "start_time": "2021-10-03T21:47:43.252123",
     "status": "completed"
    },
    "tags": []
   },
   "outputs": [],
   "source": [
    "# Compute the mean RMSE score\n",
    "result_df['Mean_RMSE'] = result_df[['RMSE_fold_1', 'RMSE_fold_2', 'RMSE_fold_3']].mean(axis=1)"
   ]
  },
  {
   "cell_type": "code",
   "execution_count": 54,
   "id": "1e51cf8a",
   "metadata": {
    "execution": {
     "iopub.execute_input": "2021-10-03T21:47:43.505250Z",
     "iopub.status.busy": "2021-10-03T21:47:43.504673Z",
     "iopub.status.idle": "2021-10-03T21:47:43.507813Z",
     "shell.execute_reply": "2021-10-03T21:47:43.508260Z",
     "shell.execute_reply.started": "2021-10-03T21:11:29.849117Z"
    },
    "papermill": {
     "duration": 0.100477,
     "end_time": "2021-10-03T21:47:43.508390",
     "exception": false,
     "start_time": "2021-10-03T21:47:43.407913",
     "status": "completed"
    },
    "tags": []
   },
   "outputs": [
    {
     "data": {
      "text/html": [
       "<div>\n",
       "<style scoped>\n",
       "    .dataframe tbody tr th:only-of-type {\n",
       "        vertical-align: middle;\n",
       "    }\n",
       "\n",
       "    .dataframe tbody tr th {\n",
       "        vertical-align: top;\n",
       "    }\n",
       "\n",
       "    .dataframe thead th {\n",
       "        text-align: right;\n",
       "    }\n",
       "</style>\n",
       "<table border=\"1\" class=\"dataframe\">\n",
       "  <thead>\n",
       "    <tr style=\"text-align: right;\">\n",
       "      <th></th>\n",
       "      <th>RMSE_fold_1</th>\n",
       "      <th>RMSE_fold_2</th>\n",
       "      <th>RMSE_fold_3</th>\n",
       "      <th>Mean_RMSE</th>\n",
       "    </tr>\n",
       "  </thead>\n",
       "  <tbody>\n",
       "    <tr>\n",
       "      <th>SVD</th>\n",
       "      <td>0.652412</td>\n",
       "      <td>0.652065</td>\n",
       "      <td>0.674198</td>\n",
       "      <td>0.659558</td>\n",
       "    </tr>\n",
       "    <tr>\n",
       "      <th>KNN_Means</th>\n",
       "      <td>0.711502</td>\n",
       "      <td>0.683432</td>\n",
       "      <td>0.660006</td>\n",
       "      <td>0.684980</td>\n",
       "    </tr>\n",
       "    <tr>\n",
       "      <th>KNN_ZScore</th>\n",
       "      <td>0.693397</td>\n",
       "      <td>0.697084</td>\n",
       "      <td>0.698474</td>\n",
       "      <td>0.696318</td>\n",
       "    </tr>\n",
       "    <tr>\n",
       "      <th>CoClustering</th>\n",
       "      <td>0.708158</td>\n",
       "      <td>0.697753</td>\n",
       "      <td>0.722445</td>\n",
       "      <td>0.709452</td>\n",
       "    </tr>\n",
       "    <tr>\n",
       "      <th>SlopeOne</th>\n",
       "      <td>0.747836</td>\n",
       "      <td>0.720594</td>\n",
       "      <td>0.757867</td>\n",
       "      <td>0.742099</td>\n",
       "    </tr>\n",
       "    <tr>\n",
       "      <th>KNN_Basic</th>\n",
       "      <td>0.833319</td>\n",
       "      <td>0.812951</td>\n",
       "      <td>0.847237</td>\n",
       "      <td>0.831169</td>\n",
       "    </tr>\n",
       "  </tbody>\n",
       "</table>\n",
       "</div>"
      ],
      "text/plain": [
       "              RMSE_fold_1  RMSE_fold_2  RMSE_fold_3  Mean_RMSE\n",
       "SVD              0.652412     0.652065     0.674198   0.659558\n",
       "KNN_Means        0.711502     0.683432     0.660006   0.684980\n",
       "KNN_ZScore       0.693397     0.697084     0.698474   0.696318\n",
       "CoClustering     0.708158     0.697753     0.722445   0.709452\n",
       "SlopeOne         0.747836     0.720594     0.757867   0.742099\n",
       "KNN_Basic        0.833319     0.812951     0.847237   0.831169"
      ]
     },
     "execution_count": 54,
     "metadata": {},
     "output_type": "execute_result"
    }
   ],
   "source": [
    "result_df.sort_values(by='Mean_RMSE')"
   ]
  },
  {
   "cell_type": "markdown",
   "id": "312363c2",
   "metadata": {
    "papermill": {
     "duration": 0.088517,
     "end_time": "2021-10-03T21:47:43.685696",
     "exception": false,
     "start_time": "2021-10-03T21:47:43.597179",
     "status": "completed"
    },
    "tags": []
   },
   "source": [
    "**SVD performs the best amongst all.**"
   ]
  },
  {
   "cell_type": "markdown",
   "id": "ab599725",
   "metadata": {
    "papermill": {
     "duration": 0.089207,
     "end_time": "2021-10-03T21:47:43.864111",
     "exception": false,
     "start_time": "2021-10-03T21:47:43.774904",
     "status": "completed"
    },
    "tags": []
   },
   "source": [
    "# Generate Recommendations using SVD"
   ]
  },
  {
   "cell_type": "code",
   "execution_count": 55,
   "id": "8e7680d2",
   "metadata": {
    "execution": {
     "iopub.execute_input": "2021-10-03T21:47:44.053176Z",
     "iopub.status.busy": "2021-10-03T21:47:44.052396Z",
     "iopub.status.idle": "2021-10-03T21:47:44.054357Z",
     "shell.execute_reply": "2021-10-03T21:47:44.054856Z",
     "shell.execute_reply.started": "2021-10-03T21:30:31.871161Z"
    },
    "papermill": {
     "duration": 0.101186,
     "end_time": "2021-10-03T21:47:44.054995",
     "exception": false,
     "start_time": "2021-10-03T21:47:43.953809",
     "status": "completed"
    },
    "tags": []
   },
   "outputs": [],
   "source": [
    "# 1. Get the restaurant id from restaurant name\n",
    "def get_rest_id(rest_name, data):\n",
    "    \n",
    "    '''Returns the Restaurant ID (placeID) given the restaurant Name.'''\n",
    "    \n",
    "    rest_names = list(data['name'].values)\n",
    "    \n",
    "    # Using difflib find the restaurants that are closest to the input and extract the corresponding placeID\n",
    "    \n",
    "    closest_names = difflib.get_close_matches(rest_name, rest_names)\n",
    "    rest_id = data[data['name'] == closest_names[0]]['placeID'].iloc[0]\n",
    "    \n",
    "    return rest_id\n",
    "\n",
    "# 2. Predict the rating for this restaurant for a given user (b/w 0-2)\n",
    "def predict_rating(user_id, rest_name, data, model=SVD):\n",
    "    \n",
    "    # extract the restaurant id from the restaurant name\n",
    "    rest_id = get_rest_id(rest_name, data)\n",
    "    #print(rest_id)\n",
    "    \n",
    "    # make predictions\n",
    "    estimated_ratings = model.predict(uid = user_id, iid = rest_id)\n",
    "    \n",
    "    return estimated_ratings.est\n",
    "\n",
    "# 3. Generate Recommendations for a given user\n",
    "\n",
    "'''\n",
    "In this, we will take userID as the input and output the names of all the restaurants for which the given user is most likely to\n",
    "give a rating above a certain threshold rating (1.5 in this case).\n",
    "'''\n",
    "def recommend_restaurants(user_id, data=data, model=svd, threshold=1.5):\n",
    "    \n",
    "    # store the recommended restaurants along with the predicted ratings given by the user in a dictionary\n",
    "    recommended_restaurants = {}\n",
    "    \n",
    "    # Find all the unique restaurant names\n",
    "    unique_rest_names = list(np.unique(data['name'].values))\n",
    "    \n",
    "    # Shuffle the restaurant name list\n",
    "    random.shuffle(unique_rest_names)\n",
    "    \n",
    "    # iterate over the list and generate ratings(predictions) for each restaurant and return only those which have a rating > threshold (1.5)\n",
    "    for rest_name in unique_rest_names:\n",
    "        \n",
    "        # generate predictions\n",
    "        #print(rest_name)\n",
    "        rating = predict_rating(user_id=user_id, rest_name=rest_name, data=data, model=svd)\n",
    "        \n",
    "        # check if rating > threshold\n",
    "        if rating > threshold:\n",
    "            \n",
    "            recommended_restaurants[rest_name] = np.round(rating,2)\n",
    "    \n",
    "    print(\"Generating Restaurant Recommendations for User ID {} : \".format(user_id))\n",
    "    \n",
    "    restaurant_names = np.array(list(recommended_restaurants.keys())).reshape(-1,1)\n",
    "    restaurant_ratings = np.array(list(recommended_restaurants.values())).reshape(-1,1)\n",
    "    \n",
    "    results = np.concatenate((restaurant_names, restaurant_ratings), axis=1)\n",
    "    results_df = pd.DataFrame(results, columns=['Restaurants', 'Rating (0-2)']).sort_values(by='Rating (0-2)', ascending=False)\n",
    "    \n",
    "    return results_df.reset_index().drop('index', axis=1)"
   ]
  },
  {
   "cell_type": "code",
   "execution_count": 56,
   "id": "37a1d1a7",
   "metadata": {
    "execution": {
     "iopub.execute_input": "2021-10-03T21:47:44.246692Z",
     "iopub.status.busy": "2021-10-03T21:47:44.245886Z",
     "iopub.status.idle": "2021-10-03T21:47:45.253069Z",
     "shell.execute_reply": "2021-10-03T21:47:45.253576Z",
     "shell.execute_reply.started": "2021-10-03T21:31:47.676729Z"
    },
    "papermill": {
     "duration": 1.109244,
     "end_time": "2021-10-03T21:47:45.253756",
     "exception": false,
     "start_time": "2021-10-03T21:47:44.144512",
     "status": "completed"
    },
    "tags": []
   },
   "outputs": [
    {
     "name": "stdout",
     "output_type": "stream",
     "text": [
      "Generating Restaurant Recommendations for User ID U1010 : \n"
     ]
    },
    {
     "data": {
      "text/html": [
       "<div>\n",
       "<style scoped>\n",
       "    .dataframe tbody tr th:only-of-type {\n",
       "        vertical-align: middle;\n",
       "    }\n",
       "\n",
       "    .dataframe tbody tr th {\n",
       "        vertical-align: top;\n",
       "    }\n",
       "\n",
       "    .dataframe thead th {\n",
       "        text-align: right;\n",
       "    }\n",
       "</style>\n",
       "<table border=\"1\" class=\"dataframe\">\n",
       "  <thead>\n",
       "    <tr style=\"text-align: right;\">\n",
       "      <th></th>\n",
       "      <th>Restaurants</th>\n",
       "      <th>Rating (0-2)</th>\n",
       "    </tr>\n",
       "  </thead>\n",
       "  <tbody>\n",
       "    <tr>\n",
       "      <th>0</th>\n",
       "      <td>Mariscos El Pescador</td>\n",
       "      <td>1.63</td>\n",
       "    </tr>\n",
       "    <tr>\n",
       "      <th>1</th>\n",
       "      <td>la Cochinita Pibil Restaurante Yucateco</td>\n",
       "      <td>1.57</td>\n",
       "    </tr>\n",
       "    <tr>\n",
       "      <th>2</th>\n",
       "      <td>dairy queen</td>\n",
       "      <td>1.52</td>\n",
       "    </tr>\n",
       "    <tr>\n",
       "      <th>3</th>\n",
       "      <td>La Estrella de Dimas</td>\n",
       "      <td>1.52</td>\n",
       "    </tr>\n",
       "    <tr>\n",
       "      <th>4</th>\n",
       "      <td>Dominos Pizza</td>\n",
       "      <td>1.5</td>\n",
       "    </tr>\n",
       "  </tbody>\n",
       "</table>\n",
       "</div>"
      ],
      "text/plain": [
       "                               Restaurants Rating (0-2)\n",
       "0                     Mariscos El Pescador         1.63\n",
       "1  la Cochinita Pibil Restaurante Yucateco         1.57\n",
       "2                              dairy queen         1.52\n",
       "3                     La Estrella de Dimas         1.52\n",
       "4                            Dominos Pizza          1.5"
      ]
     },
     "execution_count": 56,
     "metadata": {},
     "output_type": "execute_result"
    }
   ],
   "source": [
    "# Randomly pick up a userID using np.random.choice\n",
    "random_user_id = np.random.choice(list(np.unique(data['userID'].values)))\n",
    "\n",
    "# Generate Recommendations for the user ID\n",
    "recommend_restaurants(user_id = random_user_id)"
   ]
  }
 ],
 "metadata": {
  "kernelspec": {
   "display_name": "Python 3",
   "language": "python",
   "name": "python3"
  },
  "language_info": {
   "codemirror_mode": {
    "name": "ipython",
    "version": 3
   },
   "file_extension": ".py",
   "mimetype": "text/x-python",
   "name": "python",
   "nbconvert_exporter": "python",
   "pygments_lexer": "ipython3",
   "version": "3.7.10"
  },
  "papermill": {
   "default_parameters": {},
   "duration": 22.438671,
   "end_time": "2021-10-03T21:47:45.853452",
   "environment_variables": {},
   "exception": null,
   "input_path": "__notebook__.ipynb",
   "output_path": "__notebook__.ipynb",
   "parameters": {},
   "start_time": "2021-10-03T21:47:23.414781",
   "version": "2.3.3"
  }
 },
 "nbformat": 4,
 "nbformat_minor": 5
}
